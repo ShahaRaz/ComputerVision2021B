{
  "nbformat": 4,
  "nbformat_minor": 0,
  "metadata": {
    "colab": {
      "name": "Lab7 Summary Shahar Raz.ipynb",
      "provenance": [],
      "collapsed_sections": [],
      "toc_visible": true
    },
    "kernelspec": {
      "name": "python3",
      "display_name": "Python 3"
    },
    "language_info": {
      "name": "python"
    },
    "accelerator": "GPU",
    "widgets": {
      "application/vnd.jupyter.widget-state+json": {
        "9bedb746ec954b7bbf70959c7dfe8d00": {
          "model_module": "@jupyter-widgets/controls",
          "model_name": "HBoxModel",
          "model_module_version": "1.5.0",
          "state": {
            "_view_name": "HBoxView",
            "_dom_classes": [],
            "_model_name": "HBoxModel",
            "_view_module": "@jupyter-widgets/controls",
            "_model_module_version": "1.5.0",
            "_view_count": null,
            "_view_module_version": "1.5.0",
            "box_style": "",
            "layout": "IPY_MODEL_5efe02c00310437392d5ea4761fe2a0b",
            "_model_module": "@jupyter-widgets/controls",
            "children": [
              "IPY_MODEL_557bdc37c7454ca39d40acfaa77c0692",
              "IPY_MODEL_522a497e3f8346ab8d29f3982df09171"
            ]
          }
        },
        "5efe02c00310437392d5ea4761fe2a0b": {
          "model_module": "@jupyter-widgets/base",
          "model_name": "LayoutModel",
          "model_module_version": "1.2.0",
          "state": {
            "_view_name": "LayoutView",
            "grid_template_rows": null,
            "right": null,
            "justify_content": null,
            "_view_module": "@jupyter-widgets/base",
            "overflow": null,
            "_model_module_version": "1.2.0",
            "_view_count": null,
            "flex_flow": null,
            "width": null,
            "min_width": null,
            "border": null,
            "align_items": null,
            "bottom": null,
            "_model_module": "@jupyter-widgets/base",
            "top": null,
            "grid_column": null,
            "overflow_y": null,
            "overflow_x": null,
            "grid_auto_flow": null,
            "grid_area": null,
            "grid_template_columns": null,
            "flex": null,
            "_model_name": "LayoutModel",
            "justify_items": null,
            "grid_row": null,
            "max_height": null,
            "align_content": null,
            "visibility": null,
            "align_self": null,
            "height": null,
            "min_height": null,
            "padding": null,
            "grid_auto_rows": null,
            "grid_gap": null,
            "max_width": null,
            "order": null,
            "_view_module_version": "1.2.0",
            "grid_template_areas": null,
            "object_position": null,
            "object_fit": null,
            "grid_auto_columns": null,
            "margin": null,
            "display": null,
            "left": null
          }
        },
        "557bdc37c7454ca39d40acfaa77c0692": {
          "model_module": "@jupyter-widgets/controls",
          "model_name": "FloatProgressModel",
          "model_module_version": "1.5.0",
          "state": {
            "_view_name": "ProgressView",
            "style": "IPY_MODEL_06208dbf140b43f2a8c8ba6d849f6540",
            "_dom_classes": [],
            "description": "",
            "_model_name": "FloatProgressModel",
            "bar_style": "success",
            "max": 9912422,
            "_view_module": "@jupyter-widgets/controls",
            "_model_module_version": "1.5.0",
            "value": 9912422,
            "_view_count": null,
            "_view_module_version": "1.5.0",
            "orientation": "horizontal",
            "min": 0,
            "description_tooltip": null,
            "_model_module": "@jupyter-widgets/controls",
            "layout": "IPY_MODEL_2dcd68a61b3d41cfae3187fd142f5229"
          }
        },
        "522a497e3f8346ab8d29f3982df09171": {
          "model_module": "@jupyter-widgets/controls",
          "model_name": "HTMLModel",
          "model_module_version": "1.5.0",
          "state": {
            "_view_name": "HTMLView",
            "style": "IPY_MODEL_c5e2c452225a4a51b41f7fb9c51b1be5",
            "_dom_classes": [],
            "description": "",
            "_model_name": "HTMLModel",
            "placeholder": "​",
            "_view_module": "@jupyter-widgets/controls",
            "_model_module_version": "1.5.0",
            "value": " 9913344/? [00:59&lt;00:00, 166350.09it/s]",
            "_view_count": null,
            "_view_module_version": "1.5.0",
            "description_tooltip": null,
            "_model_module": "@jupyter-widgets/controls",
            "layout": "IPY_MODEL_75cef32562c4424593411dbf2dd98c68"
          }
        },
        "06208dbf140b43f2a8c8ba6d849f6540": {
          "model_module": "@jupyter-widgets/controls",
          "model_name": "ProgressStyleModel",
          "model_module_version": "1.5.0",
          "state": {
            "_view_name": "StyleView",
            "_model_name": "ProgressStyleModel",
            "description_width": "initial",
            "_view_module": "@jupyter-widgets/base",
            "_model_module_version": "1.5.0",
            "_view_count": null,
            "_view_module_version": "1.2.0",
            "bar_color": null,
            "_model_module": "@jupyter-widgets/controls"
          }
        },
        "2dcd68a61b3d41cfae3187fd142f5229": {
          "model_module": "@jupyter-widgets/base",
          "model_name": "LayoutModel",
          "model_module_version": "1.2.0",
          "state": {
            "_view_name": "LayoutView",
            "grid_template_rows": null,
            "right": null,
            "justify_content": null,
            "_view_module": "@jupyter-widgets/base",
            "overflow": null,
            "_model_module_version": "1.2.0",
            "_view_count": null,
            "flex_flow": null,
            "width": null,
            "min_width": null,
            "border": null,
            "align_items": null,
            "bottom": null,
            "_model_module": "@jupyter-widgets/base",
            "top": null,
            "grid_column": null,
            "overflow_y": null,
            "overflow_x": null,
            "grid_auto_flow": null,
            "grid_area": null,
            "grid_template_columns": null,
            "flex": null,
            "_model_name": "LayoutModel",
            "justify_items": null,
            "grid_row": null,
            "max_height": null,
            "align_content": null,
            "visibility": null,
            "align_self": null,
            "height": null,
            "min_height": null,
            "padding": null,
            "grid_auto_rows": null,
            "grid_gap": null,
            "max_width": null,
            "order": null,
            "_view_module_version": "1.2.0",
            "grid_template_areas": null,
            "object_position": null,
            "object_fit": null,
            "grid_auto_columns": null,
            "margin": null,
            "display": null,
            "left": null
          }
        },
        "c5e2c452225a4a51b41f7fb9c51b1be5": {
          "model_module": "@jupyter-widgets/controls",
          "model_name": "DescriptionStyleModel",
          "model_module_version": "1.5.0",
          "state": {
            "_view_name": "StyleView",
            "_model_name": "DescriptionStyleModel",
            "description_width": "",
            "_view_module": "@jupyter-widgets/base",
            "_model_module_version": "1.5.0",
            "_view_count": null,
            "_view_module_version": "1.2.0",
            "_model_module": "@jupyter-widgets/controls"
          }
        },
        "75cef32562c4424593411dbf2dd98c68": {
          "model_module": "@jupyter-widgets/base",
          "model_name": "LayoutModel",
          "model_module_version": "1.2.0",
          "state": {
            "_view_name": "LayoutView",
            "grid_template_rows": null,
            "right": null,
            "justify_content": null,
            "_view_module": "@jupyter-widgets/base",
            "overflow": null,
            "_model_module_version": "1.2.0",
            "_view_count": null,
            "flex_flow": null,
            "width": null,
            "min_width": null,
            "border": null,
            "align_items": null,
            "bottom": null,
            "_model_module": "@jupyter-widgets/base",
            "top": null,
            "grid_column": null,
            "overflow_y": null,
            "overflow_x": null,
            "grid_auto_flow": null,
            "grid_area": null,
            "grid_template_columns": null,
            "flex": null,
            "_model_name": "LayoutModel",
            "justify_items": null,
            "grid_row": null,
            "max_height": null,
            "align_content": null,
            "visibility": null,
            "align_self": null,
            "height": null,
            "min_height": null,
            "padding": null,
            "grid_auto_rows": null,
            "grid_gap": null,
            "max_width": null,
            "order": null,
            "_view_module_version": "1.2.0",
            "grid_template_areas": null,
            "object_position": null,
            "object_fit": null,
            "grid_auto_columns": null,
            "margin": null,
            "display": null,
            "left": null
          }
        },
        "cb8b0dc36d5c43838817ebd0373fd7c4": {
          "model_module": "@jupyter-widgets/controls",
          "model_name": "HBoxModel",
          "model_module_version": "1.5.0",
          "state": {
            "_view_name": "HBoxView",
            "_dom_classes": [],
            "_model_name": "HBoxModel",
            "_view_module": "@jupyter-widgets/controls",
            "_model_module_version": "1.5.0",
            "_view_count": null,
            "_view_module_version": "1.5.0",
            "box_style": "",
            "layout": "IPY_MODEL_2a6a932a142a44eca9865b684249bc56",
            "_model_module": "@jupyter-widgets/controls",
            "children": [
              "IPY_MODEL_c2f5a3006d004e8990631fb2e3c285c8",
              "IPY_MODEL_fc7992ee5e784d10b4d627ca61ced49f"
            ]
          }
        },
        "2a6a932a142a44eca9865b684249bc56": {
          "model_module": "@jupyter-widgets/base",
          "model_name": "LayoutModel",
          "model_module_version": "1.2.0",
          "state": {
            "_view_name": "LayoutView",
            "grid_template_rows": null,
            "right": null,
            "justify_content": null,
            "_view_module": "@jupyter-widgets/base",
            "overflow": null,
            "_model_module_version": "1.2.0",
            "_view_count": null,
            "flex_flow": null,
            "width": null,
            "min_width": null,
            "border": null,
            "align_items": null,
            "bottom": null,
            "_model_module": "@jupyter-widgets/base",
            "top": null,
            "grid_column": null,
            "overflow_y": null,
            "overflow_x": null,
            "grid_auto_flow": null,
            "grid_area": null,
            "grid_template_columns": null,
            "flex": null,
            "_model_name": "LayoutModel",
            "justify_items": null,
            "grid_row": null,
            "max_height": null,
            "align_content": null,
            "visibility": null,
            "align_self": null,
            "height": null,
            "min_height": null,
            "padding": null,
            "grid_auto_rows": null,
            "grid_gap": null,
            "max_width": null,
            "order": null,
            "_view_module_version": "1.2.0",
            "grid_template_areas": null,
            "object_position": null,
            "object_fit": null,
            "grid_auto_columns": null,
            "margin": null,
            "display": null,
            "left": null
          }
        },
        "c2f5a3006d004e8990631fb2e3c285c8": {
          "model_module": "@jupyter-widgets/controls",
          "model_name": "FloatProgressModel",
          "model_module_version": "1.5.0",
          "state": {
            "_view_name": "ProgressView",
            "style": "IPY_MODEL_96dd99e87db04454924ef0bd26419a42",
            "_dom_classes": [],
            "description": "",
            "_model_name": "FloatProgressModel",
            "bar_style": "success",
            "max": 28881,
            "_view_module": "@jupyter-widgets/controls",
            "_model_module_version": "1.5.0",
            "value": 28881,
            "_view_count": null,
            "_view_module_version": "1.5.0",
            "orientation": "horizontal",
            "min": 0,
            "description_tooltip": null,
            "_model_module": "@jupyter-widgets/controls",
            "layout": "IPY_MODEL_88e6b494b453488ba73e9f6a331b4cc1"
          }
        },
        "fc7992ee5e784d10b4d627ca61ced49f": {
          "model_module": "@jupyter-widgets/controls",
          "model_name": "HTMLModel",
          "model_module_version": "1.5.0",
          "state": {
            "_view_name": "HTMLView",
            "style": "IPY_MODEL_6b5c745f447f4a39a9af04c9b02aace7",
            "_dom_classes": [],
            "description": "",
            "_model_name": "HTMLModel",
            "placeholder": "​",
            "_view_module": "@jupyter-widgets/controls",
            "_model_module_version": "1.5.0",
            "value": " 29696/? [00:50&lt;00:00, 585.11it/s]",
            "_view_count": null,
            "_view_module_version": "1.5.0",
            "description_tooltip": null,
            "_model_module": "@jupyter-widgets/controls",
            "layout": "IPY_MODEL_c5e3df44d4b447bcb9107e4c707226dc"
          }
        },
        "96dd99e87db04454924ef0bd26419a42": {
          "model_module": "@jupyter-widgets/controls",
          "model_name": "ProgressStyleModel",
          "model_module_version": "1.5.0",
          "state": {
            "_view_name": "StyleView",
            "_model_name": "ProgressStyleModel",
            "description_width": "initial",
            "_view_module": "@jupyter-widgets/base",
            "_model_module_version": "1.5.0",
            "_view_count": null,
            "_view_module_version": "1.2.0",
            "bar_color": null,
            "_model_module": "@jupyter-widgets/controls"
          }
        },
        "88e6b494b453488ba73e9f6a331b4cc1": {
          "model_module": "@jupyter-widgets/base",
          "model_name": "LayoutModel",
          "model_module_version": "1.2.0",
          "state": {
            "_view_name": "LayoutView",
            "grid_template_rows": null,
            "right": null,
            "justify_content": null,
            "_view_module": "@jupyter-widgets/base",
            "overflow": null,
            "_model_module_version": "1.2.0",
            "_view_count": null,
            "flex_flow": null,
            "width": null,
            "min_width": null,
            "border": null,
            "align_items": null,
            "bottom": null,
            "_model_module": "@jupyter-widgets/base",
            "top": null,
            "grid_column": null,
            "overflow_y": null,
            "overflow_x": null,
            "grid_auto_flow": null,
            "grid_area": null,
            "grid_template_columns": null,
            "flex": null,
            "_model_name": "LayoutModel",
            "justify_items": null,
            "grid_row": null,
            "max_height": null,
            "align_content": null,
            "visibility": null,
            "align_self": null,
            "height": null,
            "min_height": null,
            "padding": null,
            "grid_auto_rows": null,
            "grid_gap": null,
            "max_width": null,
            "order": null,
            "_view_module_version": "1.2.0",
            "grid_template_areas": null,
            "object_position": null,
            "object_fit": null,
            "grid_auto_columns": null,
            "margin": null,
            "display": null,
            "left": null
          }
        },
        "6b5c745f447f4a39a9af04c9b02aace7": {
          "model_module": "@jupyter-widgets/controls",
          "model_name": "DescriptionStyleModel",
          "model_module_version": "1.5.0",
          "state": {
            "_view_name": "StyleView",
            "_model_name": "DescriptionStyleModel",
            "description_width": "",
            "_view_module": "@jupyter-widgets/base",
            "_model_module_version": "1.5.0",
            "_view_count": null,
            "_view_module_version": "1.2.0",
            "_model_module": "@jupyter-widgets/controls"
          }
        },
        "c5e3df44d4b447bcb9107e4c707226dc": {
          "model_module": "@jupyter-widgets/base",
          "model_name": "LayoutModel",
          "model_module_version": "1.2.0",
          "state": {
            "_view_name": "LayoutView",
            "grid_template_rows": null,
            "right": null,
            "justify_content": null,
            "_view_module": "@jupyter-widgets/base",
            "overflow": null,
            "_model_module_version": "1.2.0",
            "_view_count": null,
            "flex_flow": null,
            "width": null,
            "min_width": null,
            "border": null,
            "align_items": null,
            "bottom": null,
            "_model_module": "@jupyter-widgets/base",
            "top": null,
            "grid_column": null,
            "overflow_y": null,
            "overflow_x": null,
            "grid_auto_flow": null,
            "grid_area": null,
            "grid_template_columns": null,
            "flex": null,
            "_model_name": "LayoutModel",
            "justify_items": null,
            "grid_row": null,
            "max_height": null,
            "align_content": null,
            "visibility": null,
            "align_self": null,
            "height": null,
            "min_height": null,
            "padding": null,
            "grid_auto_rows": null,
            "grid_gap": null,
            "max_width": null,
            "order": null,
            "_view_module_version": "1.2.0",
            "grid_template_areas": null,
            "object_position": null,
            "object_fit": null,
            "grid_auto_columns": null,
            "margin": null,
            "display": null,
            "left": null
          }
        },
        "2af97927dc4e4de691d9fecd1fe6595c": {
          "model_module": "@jupyter-widgets/controls",
          "model_name": "HBoxModel",
          "model_module_version": "1.5.0",
          "state": {
            "_view_name": "HBoxView",
            "_dom_classes": [],
            "_model_name": "HBoxModel",
            "_view_module": "@jupyter-widgets/controls",
            "_model_module_version": "1.5.0",
            "_view_count": null,
            "_view_module_version": "1.5.0",
            "box_style": "",
            "layout": "IPY_MODEL_834f874ba999443ab82fefb687723f4c",
            "_model_module": "@jupyter-widgets/controls",
            "children": [
              "IPY_MODEL_1ad91b12a1f9401e959cb929b1a882f2",
              "IPY_MODEL_e3e56c6e462a4cf4b03d1ab8aae4e862"
            ]
          }
        },
        "834f874ba999443ab82fefb687723f4c": {
          "model_module": "@jupyter-widgets/base",
          "model_name": "LayoutModel",
          "model_module_version": "1.2.0",
          "state": {
            "_view_name": "LayoutView",
            "grid_template_rows": null,
            "right": null,
            "justify_content": null,
            "_view_module": "@jupyter-widgets/base",
            "overflow": null,
            "_model_module_version": "1.2.0",
            "_view_count": null,
            "flex_flow": null,
            "width": null,
            "min_width": null,
            "border": null,
            "align_items": null,
            "bottom": null,
            "_model_module": "@jupyter-widgets/base",
            "top": null,
            "grid_column": null,
            "overflow_y": null,
            "overflow_x": null,
            "grid_auto_flow": null,
            "grid_area": null,
            "grid_template_columns": null,
            "flex": null,
            "_model_name": "LayoutModel",
            "justify_items": null,
            "grid_row": null,
            "max_height": null,
            "align_content": null,
            "visibility": null,
            "align_self": null,
            "height": null,
            "min_height": null,
            "padding": null,
            "grid_auto_rows": null,
            "grid_gap": null,
            "max_width": null,
            "order": null,
            "_view_module_version": "1.2.0",
            "grid_template_areas": null,
            "object_position": null,
            "object_fit": null,
            "grid_auto_columns": null,
            "margin": null,
            "display": null,
            "left": null
          }
        },
        "1ad91b12a1f9401e959cb929b1a882f2": {
          "model_module": "@jupyter-widgets/controls",
          "model_name": "FloatProgressModel",
          "model_module_version": "1.5.0",
          "state": {
            "_view_name": "ProgressView",
            "style": "IPY_MODEL_0901761a1e72403e9089667f0e96cb56",
            "_dom_classes": [],
            "description": "",
            "_model_name": "FloatProgressModel",
            "bar_style": "success",
            "max": 1648877,
            "_view_module": "@jupyter-widgets/controls",
            "_model_module_version": "1.5.0",
            "value": 1648877,
            "_view_count": null,
            "_view_module_version": "1.5.0",
            "orientation": "horizontal",
            "min": 0,
            "description_tooltip": null,
            "_model_module": "@jupyter-widgets/controls",
            "layout": "IPY_MODEL_4ad8d5f5952b40d59237e211d341143f"
          }
        },
        "e3e56c6e462a4cf4b03d1ab8aae4e862": {
          "model_module": "@jupyter-widgets/controls",
          "model_name": "HTMLModel",
          "model_module_version": "1.5.0",
          "state": {
            "_view_name": "HTMLView",
            "style": "IPY_MODEL_4815c02d99b44f6b8f6d982bf3033c7e",
            "_dom_classes": [],
            "description": "",
            "_model_name": "HTMLModel",
            "placeholder": "​",
            "_view_module": "@jupyter-widgets/controls",
            "_model_module_version": "1.5.0",
            "value": " 1649664/? [00:49&lt;00:00, 33330.98it/s]",
            "_view_count": null,
            "_view_module_version": "1.5.0",
            "description_tooltip": null,
            "_model_module": "@jupyter-widgets/controls",
            "layout": "IPY_MODEL_91f46e74138b48fcbde6bc5f282335ff"
          }
        },
        "0901761a1e72403e9089667f0e96cb56": {
          "model_module": "@jupyter-widgets/controls",
          "model_name": "ProgressStyleModel",
          "model_module_version": "1.5.0",
          "state": {
            "_view_name": "StyleView",
            "_model_name": "ProgressStyleModel",
            "description_width": "initial",
            "_view_module": "@jupyter-widgets/base",
            "_model_module_version": "1.5.0",
            "_view_count": null,
            "_view_module_version": "1.2.0",
            "bar_color": null,
            "_model_module": "@jupyter-widgets/controls"
          }
        },
        "4ad8d5f5952b40d59237e211d341143f": {
          "model_module": "@jupyter-widgets/base",
          "model_name": "LayoutModel",
          "model_module_version": "1.2.0",
          "state": {
            "_view_name": "LayoutView",
            "grid_template_rows": null,
            "right": null,
            "justify_content": null,
            "_view_module": "@jupyter-widgets/base",
            "overflow": null,
            "_model_module_version": "1.2.0",
            "_view_count": null,
            "flex_flow": null,
            "width": null,
            "min_width": null,
            "border": null,
            "align_items": null,
            "bottom": null,
            "_model_module": "@jupyter-widgets/base",
            "top": null,
            "grid_column": null,
            "overflow_y": null,
            "overflow_x": null,
            "grid_auto_flow": null,
            "grid_area": null,
            "grid_template_columns": null,
            "flex": null,
            "_model_name": "LayoutModel",
            "justify_items": null,
            "grid_row": null,
            "max_height": null,
            "align_content": null,
            "visibility": null,
            "align_self": null,
            "height": null,
            "min_height": null,
            "padding": null,
            "grid_auto_rows": null,
            "grid_gap": null,
            "max_width": null,
            "order": null,
            "_view_module_version": "1.2.0",
            "grid_template_areas": null,
            "object_position": null,
            "object_fit": null,
            "grid_auto_columns": null,
            "margin": null,
            "display": null,
            "left": null
          }
        },
        "4815c02d99b44f6b8f6d982bf3033c7e": {
          "model_module": "@jupyter-widgets/controls",
          "model_name": "DescriptionStyleModel",
          "model_module_version": "1.5.0",
          "state": {
            "_view_name": "StyleView",
            "_model_name": "DescriptionStyleModel",
            "description_width": "",
            "_view_module": "@jupyter-widgets/base",
            "_model_module_version": "1.5.0",
            "_view_count": null,
            "_view_module_version": "1.2.0",
            "_model_module": "@jupyter-widgets/controls"
          }
        },
        "91f46e74138b48fcbde6bc5f282335ff": {
          "model_module": "@jupyter-widgets/base",
          "model_name": "LayoutModel",
          "model_module_version": "1.2.0",
          "state": {
            "_view_name": "LayoutView",
            "grid_template_rows": null,
            "right": null,
            "justify_content": null,
            "_view_module": "@jupyter-widgets/base",
            "overflow": null,
            "_model_module_version": "1.2.0",
            "_view_count": null,
            "flex_flow": null,
            "width": null,
            "min_width": null,
            "border": null,
            "align_items": null,
            "bottom": null,
            "_model_module": "@jupyter-widgets/base",
            "top": null,
            "grid_column": null,
            "overflow_y": null,
            "overflow_x": null,
            "grid_auto_flow": null,
            "grid_area": null,
            "grid_template_columns": null,
            "flex": null,
            "_model_name": "LayoutModel",
            "justify_items": null,
            "grid_row": null,
            "max_height": null,
            "align_content": null,
            "visibility": null,
            "align_self": null,
            "height": null,
            "min_height": null,
            "padding": null,
            "grid_auto_rows": null,
            "grid_gap": null,
            "max_width": null,
            "order": null,
            "_view_module_version": "1.2.0",
            "grid_template_areas": null,
            "object_position": null,
            "object_fit": null,
            "grid_auto_columns": null,
            "margin": null,
            "display": null,
            "left": null
          }
        },
        "4afe62b96b194bbebe34f1fe4f8add54": {
          "model_module": "@jupyter-widgets/controls",
          "model_name": "HBoxModel",
          "model_module_version": "1.5.0",
          "state": {
            "_view_name": "HBoxView",
            "_dom_classes": [],
            "_model_name": "HBoxModel",
            "_view_module": "@jupyter-widgets/controls",
            "_model_module_version": "1.5.0",
            "_view_count": null,
            "_view_module_version": "1.5.0",
            "box_style": "",
            "layout": "IPY_MODEL_6673eb092f444b64b48ca5f9549ecf31",
            "_model_module": "@jupyter-widgets/controls",
            "children": [
              "IPY_MODEL_67d305380b194baa9ab24b83c09d92da",
              "IPY_MODEL_d207099e3bb448579817720b5c5976f7"
            ]
          }
        },
        "6673eb092f444b64b48ca5f9549ecf31": {
          "model_module": "@jupyter-widgets/base",
          "model_name": "LayoutModel",
          "model_module_version": "1.2.0",
          "state": {
            "_view_name": "LayoutView",
            "grid_template_rows": null,
            "right": null,
            "justify_content": null,
            "_view_module": "@jupyter-widgets/base",
            "overflow": null,
            "_model_module_version": "1.2.0",
            "_view_count": null,
            "flex_flow": null,
            "width": null,
            "min_width": null,
            "border": null,
            "align_items": null,
            "bottom": null,
            "_model_module": "@jupyter-widgets/base",
            "top": null,
            "grid_column": null,
            "overflow_y": null,
            "overflow_x": null,
            "grid_auto_flow": null,
            "grid_area": null,
            "grid_template_columns": null,
            "flex": null,
            "_model_name": "LayoutModel",
            "justify_items": null,
            "grid_row": null,
            "max_height": null,
            "align_content": null,
            "visibility": null,
            "align_self": null,
            "height": null,
            "min_height": null,
            "padding": null,
            "grid_auto_rows": null,
            "grid_gap": null,
            "max_width": null,
            "order": null,
            "_view_module_version": "1.2.0",
            "grid_template_areas": null,
            "object_position": null,
            "object_fit": null,
            "grid_auto_columns": null,
            "margin": null,
            "display": null,
            "left": null
          }
        },
        "67d305380b194baa9ab24b83c09d92da": {
          "model_module": "@jupyter-widgets/controls",
          "model_name": "FloatProgressModel",
          "model_module_version": "1.5.0",
          "state": {
            "_view_name": "ProgressView",
            "style": "IPY_MODEL_73c1f0c2ff424310b74d89f362d6e585",
            "_dom_classes": [],
            "description": "",
            "_model_name": "FloatProgressModel",
            "bar_style": "success",
            "max": 4542,
            "_view_module": "@jupyter-widgets/controls",
            "_model_module_version": "1.5.0",
            "value": 4542,
            "_view_count": null,
            "_view_module_version": "1.5.0",
            "orientation": "horizontal",
            "min": 0,
            "description_tooltip": null,
            "_model_module": "@jupyter-widgets/controls",
            "layout": "IPY_MODEL_e2d43c723efa4aefa478f29c29451328"
          }
        },
        "d207099e3bb448579817720b5c5976f7": {
          "model_module": "@jupyter-widgets/controls",
          "model_name": "HTMLModel",
          "model_module_version": "1.5.0",
          "state": {
            "_view_name": "HTMLView",
            "style": "IPY_MODEL_336e80b5c3aa4dcd8c80f9869b00a6f6",
            "_dom_classes": [],
            "description": "",
            "_model_name": "HTMLModel",
            "placeholder": "​",
            "_view_module": "@jupyter-widgets/controls",
            "_model_module_version": "1.5.0",
            "value": " 5120/? [00:05&lt;00:00, 923.83it/s]",
            "_view_count": null,
            "_view_module_version": "1.5.0",
            "description_tooltip": null,
            "_model_module": "@jupyter-widgets/controls",
            "layout": "IPY_MODEL_dcd7375e12844c56a4e1ceaafcacc064"
          }
        },
        "73c1f0c2ff424310b74d89f362d6e585": {
          "model_module": "@jupyter-widgets/controls",
          "model_name": "ProgressStyleModel",
          "model_module_version": "1.5.0",
          "state": {
            "_view_name": "StyleView",
            "_model_name": "ProgressStyleModel",
            "description_width": "initial",
            "_view_module": "@jupyter-widgets/base",
            "_model_module_version": "1.5.0",
            "_view_count": null,
            "_view_module_version": "1.2.0",
            "bar_color": null,
            "_model_module": "@jupyter-widgets/controls"
          }
        },
        "e2d43c723efa4aefa478f29c29451328": {
          "model_module": "@jupyter-widgets/base",
          "model_name": "LayoutModel",
          "model_module_version": "1.2.0",
          "state": {
            "_view_name": "LayoutView",
            "grid_template_rows": null,
            "right": null,
            "justify_content": null,
            "_view_module": "@jupyter-widgets/base",
            "overflow": null,
            "_model_module_version": "1.2.0",
            "_view_count": null,
            "flex_flow": null,
            "width": null,
            "min_width": null,
            "border": null,
            "align_items": null,
            "bottom": null,
            "_model_module": "@jupyter-widgets/base",
            "top": null,
            "grid_column": null,
            "overflow_y": null,
            "overflow_x": null,
            "grid_auto_flow": null,
            "grid_area": null,
            "grid_template_columns": null,
            "flex": null,
            "_model_name": "LayoutModel",
            "justify_items": null,
            "grid_row": null,
            "max_height": null,
            "align_content": null,
            "visibility": null,
            "align_self": null,
            "height": null,
            "min_height": null,
            "padding": null,
            "grid_auto_rows": null,
            "grid_gap": null,
            "max_width": null,
            "order": null,
            "_view_module_version": "1.2.0",
            "grid_template_areas": null,
            "object_position": null,
            "object_fit": null,
            "grid_auto_columns": null,
            "margin": null,
            "display": null,
            "left": null
          }
        },
        "336e80b5c3aa4dcd8c80f9869b00a6f6": {
          "model_module": "@jupyter-widgets/controls",
          "model_name": "DescriptionStyleModel",
          "model_module_version": "1.5.0",
          "state": {
            "_view_name": "StyleView",
            "_model_name": "DescriptionStyleModel",
            "description_width": "",
            "_view_module": "@jupyter-widgets/base",
            "_model_module_version": "1.5.0",
            "_view_count": null,
            "_view_module_version": "1.2.0",
            "_model_module": "@jupyter-widgets/controls"
          }
        },
        "dcd7375e12844c56a4e1ceaafcacc064": {
          "model_module": "@jupyter-widgets/base",
          "model_name": "LayoutModel",
          "model_module_version": "1.2.0",
          "state": {
            "_view_name": "LayoutView",
            "grid_template_rows": null,
            "right": null,
            "justify_content": null,
            "_view_module": "@jupyter-widgets/base",
            "overflow": null,
            "_model_module_version": "1.2.0",
            "_view_count": null,
            "flex_flow": null,
            "width": null,
            "min_width": null,
            "border": null,
            "align_items": null,
            "bottom": null,
            "_model_module": "@jupyter-widgets/base",
            "top": null,
            "grid_column": null,
            "overflow_y": null,
            "overflow_x": null,
            "grid_auto_flow": null,
            "grid_area": null,
            "grid_template_columns": null,
            "flex": null,
            "_model_name": "LayoutModel",
            "justify_items": null,
            "grid_row": null,
            "max_height": null,
            "align_content": null,
            "visibility": null,
            "align_self": null,
            "height": null,
            "min_height": null,
            "padding": null,
            "grid_auto_rows": null,
            "grid_gap": null,
            "max_width": null,
            "order": null,
            "_view_module_version": "1.2.0",
            "grid_template_areas": null,
            "object_position": null,
            "object_fit": null,
            "grid_auto_columns": null,
            "margin": null,
            "display": null,
            "left": null
          }
        }
      }
    }
  },
  "cells": [
    {
      "cell_type": "markdown",
      "metadata": {
        "id": "WUHj53A5jM5O"
      },
      "source": [
        "# Assigment Paper:\n",
        "\n",
        "![image](https://user-images.githubusercontent.com/55464049/114030959-8c7be680-9883-11eb-932b-44146b041417.png)\n",
        "\n",
        "\n",
        "\n",
        "\n",
        "[Adam](https://arxiv.org/pdf/1412.6980v1.pdf)\n",
        "\n",
        "[AdamW](https://arxiv.org/abs/1711.05101v3)\n",
        "\n",
        "\n",
        "[Focal Loss](https://arxiv.org/abs/1708.02002v2)\n",
        "\n",
        "[Dice](https://arxiv.org/pdf/1707.03237.pdf)\n",
        "\n",
        " __UPDATE 14April2021__\n",
        "\n",
        " ![image](https://user-images.githubusercontent.com/55464049/114354049-65206480-9b76-11eb-8a88-d5d1416ab0dd.png)\n"
      ]
    },
    {
      "cell_type": "markdown",
      "metadata": {
        "id": "2rGgUaNPFW1k"
      },
      "source": [
        "# Lec Preperation"
      ]
    },
    {
      "cell_type": "markdown",
      "metadata": {
        "id": "VWqc9K2QkcFD"
      },
      "source": [
        "##1. Optimizers Read & Summarize "
      ]
    },
    {
      "cell_type": "markdown",
      "metadata": {
        "id": "yFuQzxgeFbQS"
      },
      "source": [
        "### 1.1 Adam\n",
        "a method for efficient stochastic optimization that only requires first-order gradients and requires little memory.\n",
        "\n",
        "Consists of 2 main methods for reaching fast to the minimum.\n",
        "\n",
        "1. Momentum: keeping the general direction of the movement. helps avoiding local minimums, and acts like a ball goin down a hill.\n",
        "![image](https://user-images.githubusercontent.com/55464049/114276061-b244ef00-9a2d-11eb-9c33-feaa59b257a7.png)\n",
        "\n",
        "\n",
        "2. RMSProp: (a better version of AdaGrad which keeping track of a historical average of square of gradient values)\n",
        "![image](https://user-images.githubusercontent.com/55464049/114275988-5e3a0a80-9a2d-11eb-854c-d0af3e60f02a.png)\n",
        ", in RMSProp we also add friction (decay) \n",
        "![image](https://user-images.githubusercontent.com/55464049/114275942-14e9bb00-9a2d-11eb-97b8-c200f235ba48.png)\n",
        "which will not allow the values to explode.\n",
        "The RMSProp arrests progress along the fast moving direction while simultaneously accelerating progress along slow moving directions, which helps it to bend directly towards the bottom.\n",
        "\n",
        "![image](https://user-images.githubusercontent.com/55464049/114276907-6d22bc00-9a31-11eb-854a-d903d36e5793.png)\n",
        "\n"
      ]
    },
    {
      "cell_type": "markdown",
      "metadata": {
        "id": "Cfqvs_4kjOKA"
      },
      "source": [
        "### 1.2 AdamW Optimizer\n",
        "A simple modification from Adam to recover the original formulation of weight decay regularization by __decoupling__ the weight decay from the optimization steps taken. The weight decay is calculated _after_ the main calculation, and therefore does not interrupt with the them.\n",
        "\n",
        "[Link](https://towardsdatascience.com/why-adamw-matters-736223f31b5d)\n",
        "![image](https://user-images.githubusercontent.com/55464049/114277470-fe932d80-9a33-11eb-9158-9967d370654e.png)\n"
      ]
    },
    {
      "cell_type": "markdown",
      "metadata": {
        "id": "TzEDZJK2e6cb"
      },
      "source": [
        "### 1.3 SGD\n",
        "Basically, when we want to progress with our model:\n",
        "* we can check one example, check the error, compute the gradients and change the network. but, one example can be biased in many ways, and contains an unknown amount of noise. __1 example__.\n",
        "\n",
        "* So in order to find patterns, and go in the right direction, most likely is that we'll want to check all of our examples, average the direction, compute the loss and backdrop according to all of it.\n",
        "but, if we have a lot of data (millions-billions..) computing and averaging all the examples for each step will take VERY much time. __N examples__.\n",
        "\n",
        "* so, we try to find a middle way, here is where __SGD__ comes in! \n",
        "We'll randomly subsample our dataset to groups who each have k samples in it.\n",
        "So rather than computing the loss on the full data-set, in each step we'll compute the loss over a minibatch, and backprop accordingly. __n examples__.\n",
        "\n",
        "![image](https://user-images.githubusercontent.com/55464049/114276150-2384a200-9a2e-11eb-9c8d-fc12851f536c.png)\n"
      ]
    },
    {
      "cell_type": "code",
      "metadata": {
        "colab": {
          "base_uri": "https://localhost:8080/"
        },
        "id": "6oj-OcWgo88u",
        "outputId": "e7d90b71-3d4f-4735-d080-1cb6dd060732"
      },
      "source": [
        "!nvidia-smi"
      ],
      "execution_count": null,
      "outputs": [
        {
          "output_type": "stream",
          "text": [
            "Sun May  9 11:13:04 2021       \n",
            "+-----------------------------------------------------------------------------+\n",
            "| NVIDIA-SMI 465.19.01    Driver Version: 460.32.03    CUDA Version: 11.2     |\n",
            "|-------------------------------+----------------------+----------------------+\n",
            "| GPU  Name        Persistence-M| Bus-Id        Disp.A | Volatile Uncorr. ECC |\n",
            "| Fan  Temp  Perf  Pwr:Usage/Cap|         Memory-Usage | GPU-Util  Compute M. |\n",
            "|                               |                      |               MIG M. |\n",
            "|===============================+======================+======================|\n",
            "|   0  Tesla K80           Off  | 00000000:00:04.0 Off |                    0 |\n",
            "| N/A   71C    P8    32W / 149W |      0MiB / 11441MiB |      0%      Default |\n",
            "|                               |                      |                  N/A |\n",
            "+-------------------------------+----------------------+----------------------+\n",
            "                                                                               \n",
            "+-----------------------------------------------------------------------------+\n",
            "| Processes:                                                                  |\n",
            "|  GPU   GI   CI        PID   Type   Process name                  GPU Memory |\n",
            "|        ID   ID                                                   Usage      |\n",
            "|=============================================================================|\n",
            "|  No running processes found                                                 |\n",
            "+-----------------------------------------------------------------------------+\n"
          ],
          "name": "stdout"
        }
      ]
    },
    {
      "cell_type": "markdown",
      "metadata": {
        "id": "-sE1buYMk8HP"
      },
      "source": [
        "## 2. Optimizer Implemetations"
      ]
    },
    {
      "cell_type": "markdown",
      "metadata": {
        "id": "JLN62QIootAK"
      },
      "source": [
        "### 2.1 AdamW Implementation"
      ]
    },
    {
      "cell_type": "code",
      "metadata": {
        "id": "VcfSUnjmjLG_"
      },
      "source": [
        "# from: https://github.com/egg-west/AdamW-pytorch/blob/master/adamW.py\n",
        "import math\n",
        "import torch\n",
        "from torch.optim.optimizer import Optimizer\n",
        "\n",
        "class AdamW(Optimizer):\n",
        "    \"\"\"Implements Adam algorithm.\n",
        "    It has been proposed in `Adam: A Method for Stochastic Optimization`_.\n",
        "    Arguments:\n",
        "        params (iterable): iterable of parameters to optimize or dicts defining\n",
        "            parameter groups\n",
        "        lr (float, optional): learning rate (default: 1e-3)\n",
        "        betas (Tuple[float, float], optional): coefficients used for computing\n",
        "            running averages of gradient and its square (default: (0.9, 0.999))\n",
        "        eps (float, optional): term added to the denominator to improve\n",
        "            numerical stability (default: 1e-8)\n",
        "        weight_decay (float, optional): weight decay (L2 penalty) (default: 0)\n",
        "        amsgrad (boolean, optional): whether to use the AMSGrad variant of this\n",
        "            algorithm from the paper `On the Convergence of Adam and Beyond`_\n",
        "    .. _Adam\\: A Method for Stochastic Optimization:\n",
        "        https://arxiv.org/abs/1412.6980\n",
        "    .. _On the Convergence of Adam and Beyond:\n",
        "        https://openreview.net/forum?id=ryQu7f-RZ\n",
        "    \"\"\"\n",
        "\n",
        "    def __init__(self, params, lr=1e-3, betas=(0.9, 0.999), eps=1e-8,\n",
        "                 weight_decay=0, amsgrad=False):\n",
        "        if not 0.0 <= lr:\n",
        "            raise ValueError(\"Invalid learning rate: {}\".format(lr))\n",
        "        if not 0.0 <= eps:\n",
        "            raise ValueError(\"Invalid epsilon value: {}\".format(eps))\n",
        "        if not 0.0 <= betas[0] < 1.0:\n",
        "            raise ValueError(\"Invalid beta parameter at index 0: {}\".format(betas[0]))\n",
        "        if not 0.0 <= betas[1] < 1.0:\n",
        "            raise ValueError(\"Invalid beta parameter at index 1: {}\".format(betas[1]))\n",
        "        defaults = dict(lr=lr, betas=betas, eps=eps,\n",
        "                        weight_decay=weight_decay, amsgrad=amsgrad)\n",
        "        super(AdamW, self).__init__(params, defaults)\n",
        "\n",
        "    def __setstate__(self, state):\n",
        "        super(AdamW, self).__setstate__(state)\n",
        "        for group in self.param_groups:\n",
        "            group.setdefault('amsgrad', False)\n",
        "\n",
        "    def step(self, closure=None):\n",
        "        \"\"\"Performs a single optimization step.\n",
        "        Arguments:\n",
        "            closure (callable, optional): A closure that reevaluates the model\n",
        "                and returns the loss.\n",
        "        \"\"\"\n",
        "        loss = None\n",
        "        if closure is not None:\n",
        "            loss = closure()\n",
        "\n",
        "        for group in self.param_groups:\n",
        "            for p in group['params']:\n",
        "                if p.grad is None:\n",
        "                    continue\n",
        "                grad = p.grad.data\n",
        "                if grad.is_sparse:\n",
        "                    raise RuntimeError('Adam does not support sparse gradients, please consider SparseAdam instead')\n",
        "                amsgrad = group['amsgrad']\n",
        "\n",
        "\n",
        "                state = self.state[p]\n",
        "\n",
        "                # State initialization\n",
        "                if len(state) == 0:\n",
        "                    state['step'] = 0\n",
        "                    # Exponential moving average of gradient values\n",
        "                    state['exp_avg'] = torch.zeros_like(p.data)\n",
        "                    # Exponential moving average of squared gradient values\n",
        "                    state['exp_avg_sq'] = torch.zeros_like(p.data)\n",
        "                    if amsgrad:\n",
        "                        # Maintains max of all exp. moving avg. of sq. grad. values\n",
        "                        state['max_exp_avg_sq'] = torch.zeros_like(p.data)\n",
        "\n",
        "                exp_avg, exp_avg_sq = state['exp_avg'], state['exp_avg_sq']\n",
        "                if amsgrad:\n",
        "                    max_exp_avg_sq = state['max_exp_avg_sq']\n",
        "                beta1, beta2 = group['betas']\n",
        "\n",
        "                state['step'] += 1\n",
        "\n",
        "                # if group['weight_decay'] != 0:\n",
        "                #     grad = grad.add(group['weight_decay'], p.data)\n",
        "\n",
        "                # Decay the first and second moment running average coefficient\n",
        "                exp_avg.mul_(beta1).add_(1 - beta1, grad)\n",
        "                exp_avg_sq.mul_(beta2).addcmul_(1 - beta2, grad, grad)\n",
        "                if amsgrad:\n",
        "                    # Maintains the maximum of all 2nd moment running avg. till now\n",
        "                    torch.max(max_exp_avg_sq, exp_avg_sq, out=max_exp_avg_sq)\n",
        "                    # Use the max. for normalizing running avg. of gradient\n",
        "                    denom = max_exp_avg_sq.sqrt().add_(group['eps'])\n",
        "                else:\n",
        "                    denom = exp_avg_sq.sqrt().add_(group['eps'])\n",
        "\n",
        "                bias_correction1 = 1 - beta1 ** state['step']\n",
        "                bias_correction2 = 1 - beta2 ** state['step']\n",
        "                step_size = group['lr'] * math.sqrt(bias_correction2) / bias_correction1\n",
        "\n",
        "                # p.data.addcdiv_(-step_size, exp_avg, denom)\n",
        "                p.data.add_(-step_size,  torch.mul(p.data, group['weight_decay']).addcdiv_(1, exp_avg, denom) )\n",
        "\n",
        "        return loss\n"
      ],
      "execution_count": null,
      "outputs": []
    },
    {
      "cell_type": "markdown",
      "metadata": {
        "id": "RYjq9UqvquoP"
      },
      "source": [
        "### 2.2 Adam"
      ]
    },
    {
      "cell_type": "code",
      "metadata": {
        "id": "fUGDz16Yof04"
      },
      "source": [
        "import torch\n",
        "import math\n",
        "from torch.optim import Adam, SGD\n",
        "\n",
        "import numpy as np\n",
        "import matplotlib.pyplot as plt\n",
        "import torch.nn as nn\n",
        "import torch.nn.functional as F\n",
        "import torchvision\n",
        "from torch.utils.data import Dataset, DataLoader\n"
      ],
      "execution_count": null,
      "outputs": []
    },
    {
      "cell_type": "markdown",
      "metadata": {
        "id": "KBBWjGFhrkzQ"
      },
      "source": [
        "### 2.3 Choose Optimizer:"
      ]
    },
    {
      "cell_type": "code",
      "metadata": {
        "id": "Rw354jIVrnOH"
      },
      "source": [
        "LR = 0.01\n",
        "BATCH_SIZE = 32\n",
        "EPOCH = 12\n",
        "WD = 0.1\n",
        "\n",
        "def set_optimizer(opt_name, params, learningRate):\n",
        "    if opt_name == 'SGD':\n",
        "        optimizer = optim.SGD(params, lr=learningRate)\n",
        "    elif opt_name == 'Adam':\n",
        "        optimizer = optim.Adam(params, lr=learningRate)\n",
        "    elif opt_name == 'AdamW':\n",
        "        optimizer = AdamW(params, lr=learningRate, betas=(0.9, 0.99), weight_decay = 0.1)\n",
        "    else:\n",
        "        print(f'no {opt_name} optimizer availble, choosing Adam by default.')\n",
        "        optimizer = optim.Adam(params, lr=learningRate)\n",
        "    \n",
        "    if optimizer:\n",
        "        return optimize"
      ],
      "execution_count": null,
      "outputs": []
    },
    {
      "cell_type": "markdown",
      "metadata": {
        "id": "FlyGZy2cq1LS"
      },
      "source": [
        "## 3. Losses Read & Summarize "
      ]
    },
    {
      "cell_type": "markdown",
      "metadata": {
        "id": "0_EcZzjKrYzh"
      },
      "source": [
        "### 3.1 Cross Entropy - CE\n",
        "The Cross Entropy function is a way to measure the loss of classification problem. It must be activated after softmax function, which calculates the odds for specific class to be choosen. If the network is 100% sure of a class, it will give it score of 1, and in this case we will have no loss, which means that the NN will not be modified.\n",
        "The Step size is accoding to the loss, if the loss is high, the CE derivetive will be steep, therefor the step size will be bigger.\n",
        "\n",
        "[Stat-Quest Video](https://www.youtube.com/watch?v=6ArSys5qHAU&ab_channel=StatQuestwithJoshStarmer)\n",
        "\n",
        "![image](https://user-images.githubusercontent.com/55464049/114303193-9563f680-9ad5-11eb-9a0b-f6cd93b6ddad.png)\n"
      ]
    },
    {
      "cell_type": "markdown",
      "metadata": {
        "id": "Tgp0QyMyrdfo"
      },
      "source": [
        "### 3.2 Binary Cross Entropy with logits loss\n",
        "\n",
        "[What is Logits](https://stackoverflow.com/questions/34240703/what-is-logits-what-is-the-difference-between-softmax-and-softmax-cross-entropy)\n",
        "\n",
        "\n",
        "* Logits:  the function operates on the unscaled output, that __the values are not probabilities__.\n",
        "\n",
        "* Binary Cross Entropy: Cross Entropy of only 2 categories.\n",
        "\n",
        "\n",
        "[Pytorch Link:](https://pytorch.org/docs/master/generated/torch.nn.BCEWithLogitsLoss.html#torch.nn.BCEWithLogitsLoss)\n",
        "This loss combines a Sigmoid layer and the BCELoss in one single class. This version is more numerically stable than using a plain Sigmoid followed by a BCELoss as, by combining the operations into one layer, we take advantage of the log-sum-exp trick for numerical stability.\n",
        "\n"
      ]
    },
    {
      "cell_type": "markdown",
      "metadata": {
        "id": "Qrwzi6FctvAw"
      },
      "source": [
        "### 3.3 Focal Loss\n",
        "Focal Loss is a modulated CE function which reduces the loss for easy / common examples, whereas keep the loss for the hard / rare examples.\n",
        "When __Gamma==0 <=> FocalLoss == CE__ , when gamma \n",
        "\n",
        "this approach is useful in many Image Classification Problems.\n",
        "![image](https://user-images.githubusercontent.com/55464049/114303741-4f5c6200-9ad8-11eb-8edd-5ec9e6cfd095.png)\n",
        "\n",
        "Another way, apart from Focal Loss, to deal with class imbalance is to introduce weights. Give high weights to the rare class and small weights to the dominating or common class. These weights are referred to as α.\n",
        "\n",
        "![image](https://user-images.githubusercontent.com/55464049/114303812-aa8e5480-9ad8-11eb-9bf2-b56d8f29620b.png)\n",
        "\n"
      ]
    },
    {
      "cell_type": "markdown",
      "metadata": {
        "id": "XJcJr2cAtxSS"
      },
      "source": [
        "### 3.4 Dice\n",
        "\n",
        "Dice loss is based on the Sorensen-Dice coefficient or Tversky index, which attaches similar importance to false positives and false negatives, and is more immune to the data-imbalance issue. To further alleviate the dominating influence from easy-negative examples in training, we propose to associate training examples with dynamically adjusted weights to deemphasize easy-negative examples.\n",
        "\n",
        "Dice's formula:\n",
        "![image](https://user-images.githubusercontent.com/55464049/114304068-e83fad00-9ad9-11eb-9bb9-3ab066dddd02.png)\n",
        "\n",
        "[Dice impelemtation:](https://www.jeremyjordan.me/semantic-segmentation/#:~:text=around%20the%20cells.%20(-,Source),denotes%20perfect%20and%20complete%20overlap.)"
      ]
    },
    {
      "cell_type": "code",
      "metadata": {
        "id": "chJqu5vv5TvD"
      },
      "source": [
        "# from : https://www.jeremyjordan.me/semantic-segmentation/#:~:text=around%20the%20cells.%20(-,Source),denotes%20perfect%20and%20complete%20overlap.\n",
        "def soft_dice_loss(y_true, y_pred, epsilon=1e-6): \n",
        "    # skip the batch and class axis for calculating Dice score\n",
        "    axes = tuple(range(1, len(y_pred.shape)-1)) \n",
        "    numerator = 2. * np.sum(y_pred * y_true, axes)\n",
        "    denominator = np.sum(np.square(y_pred) + np.square(y_true), axes)\n",
        "    \n",
        "    return 1 - np.mean((numerator + epsilon) / (denominator + epsilon)) # average over classes and batch\n",
        "    # thanks @mfernezir for catching a bug in an earlier version of this implementation!"
      ],
      "execution_count": null,
      "outputs": []
    },
    {
      "cell_type": "markdown",
      "metadata": {
        "id": "9HtFZd5trGzd"
      },
      "source": [
        "## 4. Losses Implementations:\n",
        "\n"
      ]
    },
    {
      "cell_type": "markdown",
      "metadata": {
        "id": "R2LojdxJrUXg"
      },
      "source": [
        "### 4.1  Focal Loss\n"
      ]
    },
    {
      "cell_type": "code",
      "metadata": {
        "id": "sVY-owMBrT9J"
      },
      "source": [
        "def focal_loss(pt, alpha, gama):\n",
        "    return (-1) * alpha * ((1 - pt)**gama) * np.log(pt)"
      ],
      "execution_count": null,
      "outputs": []
    },
    {
      "cell_type": "code",
      "metadata": {
        "id": "1svi_wdyhTav"
      },
      "source": [
        "class FocalLoss(nn.Module):\n",
        "    def __init__(self, alpha=0.2, gama=2, logist=False, reduce='mean'):\n",
        "        super(FocalLoss, self).__init__()\n",
        "        self.alpha = alpha\n",
        "        self.gamma = gamma\n",
        "        self.cross_entropy_loss = nn.CrossEntropyLoss()\n",
        "        self.reduce = reduce\n",
        "\n",
        "    def forward(self, inputs, targets):\n",
        "        BCE_loss = self.cross_entropy_loss(inputs, targets)\n",
        "        pt = torch.exp(-BCE_loss)\n",
        "        F_losss = self.alpha * (1-pt) **self.gama * BCE_loss\n",
        "        if self.reduce:\n",
        "            return torch.mean(F_loss)\n",
        "        return F_loss"
      ],
      "execution_count": null,
      "outputs": []
    },
    {
      "cell_type": "markdown",
      "metadata": {
        "id": "pKlJWRvAfGwy"
      },
      "source": [
        "### Snippets"
      ]
    },
    {
      "cell_type": "code",
      "metadata": {
        "colab": {
          "base_uri": "https://localhost:8080/",
          "height": 255
        },
        "id": "mbyFeglcfJU6",
        "outputId": "addd398f-4b2e-413c-a8da-d5acf87c32f8"
      },
      "source": [
        "import torch\n",
        "import math\n",
        "from torch.optim import Adam, SGD\n",
        "from torch.optim.optimizer import Optimizer, required\n",
        "\n",
        "N, D_in, H, D_out = 64, 1000, 100, 10\n",
        "\n",
        "x = torch.randn(N, D_in)\n",
        "y = torch.randn(N, D_out)\n",
        "\n",
        "model = torch.nn.Sequential(\n",
        "    torch.nn.Linear(D_in, H),\n",
        "    torch.nn.ReLU(),\n",
        "    torch.nn.Linear(H, D_out),\n",
        ")\n",
        "loss_fn = torch.nn.MSELoss(reduction='sum')\n",
        "\n",
        "\n",
        "learning_rate = 1e-4\n",
        "\n",
        "display(model.parameters())\n",
        "for parm in model.parameters():\n",
        "    print(f' {parm.shape} \\t')\n",
        "optimizer = AdamW(model.parameters(), lr=learning_rate)\n",
        "for t in range(500):\n",
        "\n",
        "    y_pred = model(x)\n",
        "\n",
        "    loss = loss_fn(y_pred, y)\n",
        "    if t % 100 == 99:\n",
        "        print(t, loss.item())\n",
        "    optimizer.zero_grad()\n",
        "    loss.backward()\n",
        "    optimizer.step()"
      ],
      "execution_count": null,
      "outputs": [
        {
          "output_type": "display_data",
          "data": {
            "text/plain": [
              "<generator object Module.parameters at 0x7f5f901030d0>"
            ]
          },
          "metadata": {
            "tags": []
          }
        },
        {
          "output_type": "stream",
          "text": [
            " torch.Size([100, 1000]) \t\n",
            " torch.Size([100]) \t\n",
            " torch.Size([10, 100]) \t\n",
            " torch.Size([10]) \t\n"
          ],
          "name": "stdout"
        },
        {
          "output_type": "stream",
          "text": [
            "/usr/local/lib/python3.7/dist-packages/ipykernel_launcher.py:89: UserWarning: This overload of add_ is deprecated:\n",
            "\tadd_(Number alpha, Tensor other)\n",
            "Consider using one of the following signatures instead:\n",
            "\tadd_(Tensor other, *, Number alpha) (Triggered internally at  /pytorch/torch/csrc/utils/python_arg_parser.cpp:1005.)\n"
          ],
          "name": "stderr"
        },
        {
          "output_type": "stream",
          "text": [
            "99 56.47385787963867\n",
            "199 1.025139331817627\n",
            "299 0.006259269546717405\n",
            "399 2.790042526612524e-05\n",
            "499 5.784671941455599e-08\n"
          ],
          "name": "stdout"
        }
      ]
    },
    {
      "cell_type": "markdown",
      "metadata": {
        "id": "9avs0vIB75Mp"
      },
      "source": [
        "# _\n",
        "_______________________________"
      ]
    },
    {
      "cell_type": "markdown",
      "metadata": {
        "id": "OYIpNCfR0vLd"
      },
      "source": [
        "# IN Class Practice:"
      ]
    },
    {
      "cell_type": "code",
      "metadata": {
        "id": "7AaIbUUWfLAR"
      },
      "source": [
        "import torch\n",
        "import numpy as np\n",
        "import random\n",
        "import matplotlib.pyplot as plt\n",
        "import torch.nn as nn\n",
        "import torch.optim as optim\n",
        "import torch.nn.functional as F\n",
        "import torchvision\n",
        "import tensorflow.keras.datasets.mnist as mnist\n",
        "from torch.utils.data import Dataset , DataLoader\n",
        "from sklearn.metrics import confusion_matrix\n",
        "from sklearn import svm, datasets\n",
        "from sklearn.model_selection import train_test_split\n",
        "from sklearn.metrics import plot_confusion_matrix\n",
        "from torch.autograd import Variable\n",
        "\n",
        "%matplotlib inline"
      ],
      "execution_count": null,
      "outputs": []
    },
    {
      "cell_type": "code",
      "metadata": {
        "colab": {
          "base_uri": "https://localhost:8080/"
        },
        "id": "yUVSzdu202ra",
        "outputId": "7252226f-d2a5-42e4-dc30-95dd1f772e13"
      },
      "source": [
        "!pip install torchmetrics\n"
      ],
      "execution_count": null,
      "outputs": [
        {
          "output_type": "stream",
          "text": [
            "Collecting torchmetrics\n",
            "\u001b[?25l  Downloading https://files.pythonhosted.org/packages/14/99/dc59248df9a50349d537ffb3403c1bdc1fa69077109d46feaa0843488001/torchmetrics-0.3.1-py3-none-any.whl (271kB)\n",
            "\r\u001b[K     |█▏                              | 10kB 14.0MB/s eta 0:00:01\r\u001b[K     |██▍                             | 20kB 11.4MB/s eta 0:00:01\r\u001b[K     |███▋                            | 30kB 8.2MB/s eta 0:00:01\r\u001b[K     |████▉                           | 40kB 7.2MB/s eta 0:00:01\r\u001b[K     |██████                          | 51kB 4.2MB/s eta 0:00:01\r\u001b[K     |███████▎                        | 61kB 4.8MB/s eta 0:00:01\r\u001b[K     |████████▌                       | 71kB 4.9MB/s eta 0:00:01\r\u001b[K     |█████████▋                      | 81kB 5.3MB/s eta 0:00:01\r\u001b[K     |██████████▉                     | 92kB 5.6MB/s eta 0:00:01\r\u001b[K     |████████████                    | 102kB 5.3MB/s eta 0:00:01\r\u001b[K     |█████████████▎                  | 112kB 5.3MB/s eta 0:00:01\r\u001b[K     |██████████████▌                 | 122kB 5.3MB/s eta 0:00:01\r\u001b[K     |███████████████▊                | 133kB 5.3MB/s eta 0:00:01\r\u001b[K     |█████████████████               | 143kB 5.3MB/s eta 0:00:01\r\u001b[K     |██████████████████▏             | 153kB 5.3MB/s eta 0:00:01\r\u001b[K     |███████████████████▎            | 163kB 5.3MB/s eta 0:00:01\r\u001b[K     |████████████████████▌           | 174kB 5.3MB/s eta 0:00:01\r\u001b[K     |█████████████████████▊          | 184kB 5.3MB/s eta 0:00:01\r\u001b[K     |███████████████████████         | 194kB 5.3MB/s eta 0:00:01\r\u001b[K     |████████████████████████▏       | 204kB 5.3MB/s eta 0:00:01\r\u001b[K     |█████████████████████████▍      | 215kB 5.3MB/s eta 0:00:01\r\u001b[K     |██████████████████████████▋     | 225kB 5.3MB/s eta 0:00:01\r\u001b[K     |███████████████████████████▉    | 235kB 5.3MB/s eta 0:00:01\r\u001b[K     |█████████████████████████████   | 245kB 5.3MB/s eta 0:00:01\r\u001b[K     |██████████████████████████████▏ | 256kB 5.3MB/s eta 0:00:01\r\u001b[K     |███████████████████████████████▍| 266kB 5.3MB/s eta 0:00:01\r\u001b[K     |████████████████████████████████| 276kB 5.3MB/s \n",
            "\u001b[?25hRequirement already satisfied: torch>=1.3.1 in /usr/local/lib/python3.7/dist-packages (from torchmetrics) (1.8.1+cu101)\n",
            "Requirement already satisfied: packaging in /usr/local/lib/python3.7/dist-packages (from torchmetrics) (20.9)\n",
            "Requirement already satisfied: numpy in /usr/local/lib/python3.7/dist-packages (from torchmetrics) (1.19.5)\n",
            "Requirement already satisfied: typing-extensions in /usr/local/lib/python3.7/dist-packages (from torch>=1.3.1->torchmetrics) (3.7.4.3)\n",
            "Requirement already satisfied: pyparsing>=2.0.2 in /usr/local/lib/python3.7/dist-packages (from packaging->torchmetrics) (2.4.7)\n",
            "Installing collected packages: torchmetrics\n",
            "Successfully installed torchmetrics-0.3.1\n"
          ],
          "name": "stdout"
        }
      ]
    },
    {
      "cell_type": "markdown",
      "metadata": {
        "id": "bpYBknUc2eA8"
      },
      "source": [
        "### How to step the optimizer"
      ]
    },
    {
      "cell_type": "code",
      "metadata": {
        "id": "agMfTrRz02jW"
      },
      "source": [
        "import torchmetrics\n"
      ],
      "execution_count": null,
      "outputs": []
    },
    {
      "cell_type": "code",
      "metadata": {
        "id": "wvHfkiAP05hh"
      },
      "source": [
        "model = nn.Linear(1,1)\n"
      ],
      "execution_count": null,
      "outputs": []
    },
    {
      "cell_type": "code",
      "metadata": {
        "id": "YjWPM9Mo1Ef3"
      },
      "source": [
        "sgd = optim.SGD(model.parameters(), lr = 0.01, momentum=0.9, nesterov=True)\n",
        "# momentum : Parameter that accelerate SGD in relevant direction and dampens oscillations\n",
        "sgd.step()"
      ],
      "execution_count": null,
      "outputs": []
    },
    {
      "cell_type": "code",
      "metadata": {
        "id": "PFQb76C21blI"
      },
      "source": [
        "adam = optim.Adam(model.parameters(), lr = 0.001, betas = (0.9, 0.999), eps = 1e-08, weight_decay=0, amsgrad=False)\n",
        "adam.step()"
      ],
      "execution_count": null,
      "outputs": []
    },
    {
      "cell_type": "code",
      "metadata": {
        "id": "lIVP_aNt19aI"
      },
      "source": [
        "# adamw = optim.AdamW(model.parameters(),lr = 1e-3)\n",
        "# adamw.step(closure=None)"
      ],
      "execution_count": null,
      "outputs": []
    },
    {
      "cell_type": "markdown",
      "metadata": {
        "id": "6Zvvjg3f2hGL"
      },
      "source": [
        "### import data"
      ]
    },
    {
      "cell_type": "code",
      "metadata": {
        "id": "uvpRTFAk2Of4",
        "colab": {
          "base_uri": "https://localhost:8080/",
          "height": 641,
          "referenced_widgets": [
            "9bedb746ec954b7bbf70959c7dfe8d00",
            "5efe02c00310437392d5ea4761fe2a0b",
            "557bdc37c7454ca39d40acfaa77c0692",
            "522a497e3f8346ab8d29f3982df09171",
            "06208dbf140b43f2a8c8ba6d849f6540",
            "2dcd68a61b3d41cfae3187fd142f5229",
            "c5e2c452225a4a51b41f7fb9c51b1be5",
            "75cef32562c4424593411dbf2dd98c68",
            "cb8b0dc36d5c43838817ebd0373fd7c4",
            "2a6a932a142a44eca9865b684249bc56",
            "c2f5a3006d004e8990631fb2e3c285c8",
            "fc7992ee5e784d10b4d627ca61ced49f",
            "96dd99e87db04454924ef0bd26419a42",
            "88e6b494b453488ba73e9f6a331b4cc1",
            "6b5c745f447f4a39a9af04c9b02aace7",
            "c5e3df44d4b447bcb9107e4c707226dc",
            "2af97927dc4e4de691d9fecd1fe6595c",
            "834f874ba999443ab82fefb687723f4c",
            "1ad91b12a1f9401e959cb929b1a882f2",
            "e3e56c6e462a4cf4b03d1ab8aae4e862",
            "0901761a1e72403e9089667f0e96cb56",
            "4ad8d5f5952b40d59237e211d341143f",
            "4815c02d99b44f6b8f6d982bf3033c7e",
            "91f46e74138b48fcbde6bc5f282335ff",
            "4afe62b96b194bbebe34f1fe4f8add54",
            "6673eb092f444b64b48ca5f9549ecf31",
            "67d305380b194baa9ab24b83c09d92da",
            "d207099e3bb448579817720b5c5976f7",
            "73c1f0c2ff424310b74d89f362d6e585",
            "e2d43c723efa4aefa478f29c29451328",
            "336e80b5c3aa4dcd8c80f9869b00a6f6",
            "dcd7375e12844c56a4e1ceaafcacc064"
          ]
        },
        "outputId": "c3d27988-d358-4106-ba57-68d50322af4d"
      },
      "source": [
        "train_data = torchvision.datasets.MNIST(root ='', train=True ,download= True)\n",
        "test_data = torchvision.datasets.MNIST(root ='', train=False ,download= True)\n",
        "val_data = torchvision.datasets.MNIST(root ='', train=False ,download= True)\n",
        "num_classes = len(train_data.classes)\n"
      ],
      "execution_count": null,
      "outputs": [
        {
          "output_type": "stream",
          "text": [
            "Downloading http://yann.lecun.com/exdb/mnist/train-images-idx3-ubyte.gz\n",
            "Failed to download (trying next):\n",
            "HTTP Error 503: Service Unavailable\n",
            "\n",
            "Downloading https://ossci-datasets.s3.amazonaws.com/mnist/train-images-idx3-ubyte.gz\n",
            "Downloading https://ossci-datasets.s3.amazonaws.com/mnist/train-images-idx3-ubyte.gz to MNIST/raw/train-images-idx3-ubyte.gz\n"
          ],
          "name": "stdout"
        },
        {
          "output_type": "display_data",
          "data": {
            "application/vnd.jupyter.widget-view+json": {
              "model_id": "9bedb746ec954b7bbf70959c7dfe8d00",
              "version_minor": 0,
              "version_major": 2
            },
            "text/plain": [
              "HBox(children=(FloatProgress(value=0.0, max=9912422.0), HTML(value='')))"
            ]
          },
          "metadata": {
            "tags": []
          }
        },
        {
          "output_type": "stream",
          "text": [
            "\n",
            "Extracting MNIST/raw/train-images-idx3-ubyte.gz to MNIST/raw\n",
            "\n",
            "Downloading http://yann.lecun.com/exdb/mnist/train-labels-idx1-ubyte.gz\n",
            "Downloading http://yann.lecun.com/exdb/mnist/train-labels-idx1-ubyte.gz to MNIST/raw/train-labels-idx1-ubyte.gz\n"
          ],
          "name": "stdout"
        },
        {
          "output_type": "display_data",
          "data": {
            "application/vnd.jupyter.widget-view+json": {
              "model_id": "cb8b0dc36d5c43838817ebd0373fd7c4",
              "version_minor": 0,
              "version_major": 2
            },
            "text/plain": [
              "HBox(children=(FloatProgress(value=0.0, max=28881.0), HTML(value='')))"
            ]
          },
          "metadata": {
            "tags": []
          }
        },
        {
          "output_type": "stream",
          "text": [
            "\n",
            "Extracting MNIST/raw/train-labels-idx1-ubyte.gz to MNIST/raw\n",
            "\n",
            "Downloading http://yann.lecun.com/exdb/mnist/t10k-images-idx3-ubyte.gz\n",
            "Downloading http://yann.lecun.com/exdb/mnist/t10k-images-idx3-ubyte.gz to MNIST/raw/t10k-images-idx3-ubyte.gz\n"
          ],
          "name": "stdout"
        },
        {
          "output_type": "display_data",
          "data": {
            "application/vnd.jupyter.widget-view+json": {
              "model_id": "2af97927dc4e4de691d9fecd1fe6595c",
              "version_minor": 0,
              "version_major": 2
            },
            "text/plain": [
              "HBox(children=(FloatProgress(value=0.0, max=1648877.0), HTML(value='')))"
            ]
          },
          "metadata": {
            "tags": []
          }
        },
        {
          "output_type": "stream",
          "text": [
            "\n",
            "Extracting MNIST/raw/t10k-images-idx3-ubyte.gz to MNIST/raw\n",
            "\n",
            "Downloading http://yann.lecun.com/exdb/mnist/t10k-labels-idx1-ubyte.gz\n",
            "Downloading http://yann.lecun.com/exdb/mnist/t10k-labels-idx1-ubyte.gz to MNIST/raw/t10k-labels-idx1-ubyte.gz\n"
          ],
          "name": "stdout"
        },
        {
          "output_type": "display_data",
          "data": {
            "application/vnd.jupyter.widget-view+json": {
              "model_id": "4afe62b96b194bbebe34f1fe4f8add54",
              "version_minor": 0,
              "version_major": 2
            },
            "text/plain": [
              "HBox(children=(FloatProgress(value=0.0, max=4542.0), HTML(value='')))"
            ]
          },
          "metadata": {
            "tags": []
          }
        },
        {
          "output_type": "stream",
          "text": [
            "\n",
            "Extracting MNIST/raw/t10k-labels-idx1-ubyte.gz to MNIST/raw\n",
            "\n",
            "Processing...\n",
            "Done!\n"
          ],
          "name": "stdout"
        },
        {
          "output_type": "stream",
          "text": [
            "/usr/local/lib/python3.7/dist-packages/torchvision/datasets/mnist.py:502: UserWarning: The given NumPy array is not writeable, and PyTorch does not support non-writeable tensors. This means you can write to the underlying (supposedly non-writeable) NumPy array using the tensor. You may want to copy the array to protect its data or make it writeable before converting it to a tensor. This type of warning will be suppressed for the rest of this program. (Triggered internally at  /pytorch/torch/csrc/utils/tensor_numpy.cpp:143.)\n",
            "  return torch.from_numpy(parsed.astype(m[2], copy=False)).view(*s)\n"
          ],
          "name": "stderr"
        }
      ]
    },
    {
      "cell_type": "markdown",
      "metadata": {
        "id": "LQzj7dbR5_Hq"
      },
      "source": [
        "### 1dig Mnist class "
      ]
    },
    {
      "cell_type": "markdown",
      "metadata": {
        "id": "K3schKm76OMr"
      },
      "source": [
        ""
      ]
    },
    {
      "cell_type": "code",
      "metadata": {
        "id": "7077MsXi2vC8"
      },
      "source": [
        "# Must inherate from dataset\n",
        "class mnistDataSet(Dataset):\n",
        "    def __init__(self, x_train, y_train, transforms=None):\n",
        "        super(mnistDataSet,self).__init__()\n",
        "        display(x_train)\n",
        "        self.x_train = x_train\n",
        "        self.y_train = y_train\n",
        "        self.transforms = transforms\n",
        "\n",
        "        \n",
        "    def __getitem__(self, idx):\n",
        "        x = self.x_train[idx] / self.x_train[idx].max()\n",
        "        y = self.y_train[idx]\n",
        "        if self.transforms:\n",
        "            x = self.transforms(image=x.numpy())['image']\n",
        "        \n",
        "        # [Channel , H , W] -> Into The Network -> [Batch, Channel, Hight, Width]\n",
        "        return x[np.newaxis, :, :], y\n",
        "\n",
        "    def __len__(self):\n",
        "        return len(self.x_train)"
      ],
      "execution_count": null,
      "outputs": []
    },
    {
      "cell_type": "code",
      "metadata": {
        "id": "CUGTPmFk9ZDo"
      },
      "source": [
        "# Taking only the first 3000 values\n",
        "\n",
        "mnist_train = mnistDataSet(train_data.data[:3000], train_data.targets[:3000], transforms=None) \n",
        "mnist_test = mnistDataSet(test_data.data[:3000], test_data.targets[:3000], transforms=None)\n",
        "mnist_val =  mnistDataSet(val_data.data[:3000], val_data.targets[:3000], transforms=None)"
      ],
      "execution_count": null,
      "outputs": []
    },
    {
      "cell_type": "code",
      "metadata": {
        "id": "DesWUNNB-vnc",
        "colab": {
          "base_uri": "https://localhost:8080/"
        },
        "outputId": "4b9b79a1-13d9-4e21-cd67-530d452750d2"
      },
      "source": [
        "BS=32\n",
        "mnist_loader_train = DataLoader(dataset = mnist_train, batch_size = BS, shuffle=True)\n",
        "mnist_loader_test = DataLoader(dataset = mnist_test, batch_size = BS, shuffle=True)\n",
        "mnist_loader_val = DataLoader(dataset = mnist_val, batch_size = BS, shuffle=True)\n",
        "print('finished')"
      ],
      "execution_count": null,
      "outputs": [
        {
          "output_type": "stream",
          "text": [
            "finished\n"
          ],
          "name": "stdout"
        }
      ]
    },
    {
      "cell_type": "code",
      "metadata": {
        "id": "jPwIpkHYAR8C"
      },
      "source": [
        " class LeNetModel(nn.Module):\n",
        "    def __init__(self):\n",
        "        super(LeNetModel, self).__init__()\n",
        "        # 1 input image channel, 6 output channels, 3x3 square convolution\n",
        "        # kernel\n",
        "        self.conv1 = nn.Conv2d(1, 6, 5)\n",
        "        self.conv2 = nn.Conv2d(6, 16, 5)\n",
        "        # an affine operation: y = Wx + b\n",
        "        self.fc1 = nn.Linear(256, 120)  # 6*6 from image dimension\n",
        "        self.fc2 = nn.Linear(120, 84)\n",
        "        self.fc3 = nn.Linear(84, 10)\n",
        "\n",
        "    def forward(self, x):\n",
        "        x = F.relu(self.conv1(x))\n",
        "        x = F.max_pool2d(x, 2)\n",
        "        x = F.relu(self.conv2(x))\n",
        "        x = F.max_pool2d(x, 2)\n",
        "        # print(f'line17: x = {x}')\n",
        "        x = x.view(x.shape[0], -1)\n",
        "        # print(f'line19: x = {x}')\n",
        "        x = F.relu(self.fc1(x))\n",
        "        # print(f'line22 well well')\n",
        "        x = F.relu(self.fc2(x))\n",
        "        x = self.fc3(x)\n",
        "        return x\n",
        "\n",
        "\n"
      ],
      "execution_count": null,
      "outputs": []
    },
    {
      "cell_type": "code",
      "metadata": {
        "id": "nq-1DVYuCQXi"
      },
      "source": [
        "lenet_model = LeNetModel()\n",
        "criterion = torch.nn.CrossEntropyLoss()\n",
        "optimizer = optim.Adam(lenet_model.parameters(), lr = 0.001, betas = (0.9, 0.999), eps = 1e-08, weight_decay=0, amsgrad=False)\n",
        "opt2 = optim.SGD(lenet_model.parameters(), lr=0.001, momentum=0.9)"
      ],
      "execution_count": null,
      "outputs": []
    },
    {
      "cell_type": "code",
      "metadata": {
        "id": "iyYXTD8Len8H"
      },
      "source": [
        "class AverageMeter(object):\n",
        "    \"\"\"Compute and store the average & current value \"\"\"\n",
        "    def __init__(self):\n",
        "        self.reset()\n",
        "\n",
        "    def reset(self):\n",
        "        self.val = 0\n",
        "        self.avg = 0\n",
        "        self.sum = 0\n",
        "        self.count = 0\n",
        "\n",
        "    def update(self, val, n=1):\n",
        "        self.val = val\n",
        "        self.sum += val * n \n",
        "        self.count += n\n",
        "        self.avg = self.sum / self.count\n"
      ],
      "execution_count": null,
      "outputs": []
    },
    {
      "cell_type": "code",
      "metadata": {
        "id": "mfK9B4LcARhf"
      },
      "source": [
        " def train_one_epoch_NOTUSED(dataloader , model, optimizer, epoc, criterion):\n",
        "    for i, (image, target) in enumerate(dataloader):\n",
        "        running_loss = 0\n",
        "        running_acc = 0\n",
        "        image = image.float() # float() will work better with pytorch (np.float will not run on the gpu)\n",
        "        target = target.long()\n",
        "        optimizer.zero_grad()\n",
        "\n",
        "        output = model(image) # forward pass \n",
        "        loss = criterion(output, target) # Calculate loss\n",
        "        \n",
        "        loss.backward() # Calculate the derivetive \n",
        "        optimizer.step() # will modify our network according to the new values.\n",
        "        pred = output.argmax(dim = 1, keepdim = True) # getting the element with the highest probability\n",
        "        acc = torchmetrics.functional.accuracy(pred, target) # reading the accuracy of the network\n",
        "\n",
        "        running_loss +=loss # for reporting the avg accuracy at the end\n",
        "        running_acc += acc\n",
        "        \n",
        "    return running_loss/ len(dataloader.dataset), running_acc(dataloader.dataset)\n",
        "    "
      ],
      "execution_count": null,
      "outputs": []
    },
    {
      "cell_type": "code",
      "metadata": {
        "id": "X4BALX2LfSrh"
      },
      "source": [
        "def train_one_epoch(dataloader , model, optimizer, epoc, criterion):\n",
        "    accuracy = AverageMeter()\n",
        "    losses = AverageMeter()\n",
        "    model.train()\n",
        "  \n",
        "\n",
        "\n",
        "    for i, (image, target) in enumerate(dataloader):\n",
        "        image = image.float() # float() will work better with pytorch (np.float will not run on the gpu)\n",
        "        target = target.long()\n",
        "        optimizer.zero_grad()\n",
        "        output = model(image) # forward pass \n",
        "\n",
        "        loss = criterion(output, target) # Calculate loss\n",
        "        loss.backward() # Calculate the derivetive \n",
        "        \n",
        "        # modify our network according to the new values.\n",
        "        optimizer.step() \n",
        "\n",
        "\n",
        "        pred = output.argmax(dim = 1, keepdim = True) # getting the element with the highest probability\n",
        "        acc = torchmetrics.functional.accuracy(pred, target) # reading the accuracy of the network\n",
        "        losses.update(loss.item(), image.size(0))\n",
        "        accuracy.update(acc, image.size(0))\n",
        "       \n",
        "        \n",
        "    return losses.avg, accuracy.avg\n",
        "    "
      ],
      "execution_count": null,
      "outputs": []
    },
    {
      "cell_type": "code",
      "metadata": {
        "id": "PMn6VViVFVHh",
        "colab": {
          "base_uri": "https://localhost:8080/"
        },
        "outputId": "244fc5a2-31cb-4cf7-b994-fcf88d834a16"
      },
      "source": [
        "NUM_OF_EPOCHS = 5\n",
        "def train_n_epochs(num_f_epocs = NUM_OF_EPOCHS):\n",
        "    acc_dict = []\n",
        "    loss_dict = []\n",
        "    for i in range(num_f_epocs):\n",
        "        losses, accuracy = train_one_epoch(mnist_loader_train, lenet_model, optimizer, i, criterion)\n",
        "        \n",
        "        loss_dict.append(losses)\n",
        "        acc_dict.append(accuracy)\n",
        "\n",
        "    print(f'train loss = {losses}')\n",
        "    print(f'train accuracy = {accuracy}')\n",
        "    return loss_dict, acc_dict\n",
        "\n",
        "loss_arr, acc_arr = train_n_epochs()"
      ],
      "execution_count": null,
      "outputs": [
        {
          "output_type": "stream",
          "text": [
            "losses = 0.1394169406791528\n",
            "accuracy 0.9603333473205566\n"
          ],
          "name": "stdout"
        }
      ]
    },
    {
      "cell_type": "code",
      "metadata": {
        "id": "WAvbbVxn1VL7"
      },
      "source": [
        "lenet_model = LeNetModel()\n",
        "criterion = torch.nn.CrossEntropyLoss()\n",
        "optimizer = optim.Adam(lenet_model.parameters(), lr = 0.001, betas = (0.9, 0.999), eps = 1e-08, weight_decay=0, amsgrad=False)\n",
        "opt2 = optim.SGD(lenet_model.parameters(), lr=0.001, momentum=0.9)"
      ],
      "execution_count": null,
      "outputs": []
    },
    {
      "cell_type": "code",
      "metadata": {
        "id": "eee8AOfc1VMF"
      },
      "source": [
        "def train_one_epoch(dataloader , model, optimizer, epoc, criterion):\n",
        "    accuracy = AverageMeter()\n",
        "    losses = AverageMeter()\n",
        "    model.train()\n",
        "  \n",
        "\n",
        "\n",
        "    for i, (image, target) in enumerate(dataloader):\n",
        "        image = image.float() # float() will work better with pytorch (np.float will not run on the gpu)\n",
        "        target = target.long()\n",
        "        optimizer.zero_grad()\n",
        "        output = model(image) # forward pass \n",
        "\n",
        "        loss = criterion(output, target) # Calculate loss\n",
        "        loss.backward() # Calculate the derivetive \n",
        "\n",
        "        optimizer.step() # will modify our network according to the new values.\n",
        "\n",
        "\n",
        "        pred = output.argmax(dim = 1, keepdim = True) # getting the element with the highest probability\n",
        "        acc = torchmetrics.functional.accuracy(pred, target) # reading the accuracy of the network\n",
        "        losses.update(loss.item(), image.size(0))\n",
        "        accuracy.update(acc, image.size(0))\n",
        "       \n",
        "        \n",
        "    return losses.avg, accuracy.avg\n",
        "    "
      ],
      "execution_count": null,
      "outputs": []
    },
    {
      "cell_type": "code",
      "metadata": {
        "id": "SOjqz7Ct1VMG"
      },
      "source": [
        ""
      ],
      "execution_count": null,
      "outputs": []
    },
    {
      "cell_type": "code",
      "metadata": {
        "id": "qI-JnQY3krgz",
        "colab": {
          "base_uri": "https://localhost:8080/",
          "height": 295
        },
        "outputId": "e27031a0-1b31-410b-9b96-e3c2c573908d"
      },
      "source": [
        "plt.plot(range(NUM_OF_EPOCHS), loss_arr, 'g', label='loss')\n",
        "plt.plot(range(NUM_OF_EPOCHS), acc_arr, 'b', label='Accuracy')\n",
        "plt.title('Training Accuracy & Loss')\n",
        "plt.xlabel('Epochs')\n",
        "plt.ylabel('Loss')\n",
        "plt.legend()\n",
        "plt.show()\n",
        "\n",
        "# plt.plot(range(NUM_OF_EPOCHS), loss_arr, 'g', label='loss')\n",
        "# plt.plot(range(NUM_OF_EPOCHS), acc_arr, 'b', label='Accuracy')\n",
        "# plt.title('Training and Validation loss')\n",
        "# plt.xlabel('Epochs')\n",
        "# plt.ylabel('Loss')\n",
        "# plt.legend()\n",
        "# plt.show()"
      ],
      "execution_count": null,
      "outputs": [
        {
          "output_type": "display_data",
          "data": {
            "image/png": "[encoded data removed]",
            "text/plain": [
              "<Figure size 432x288 with 1 Axes>"
            ]
          },
          "metadata": {
            "tags": [],
            "needs_background": "light"
          }
        }
      ]
    },
    {
      "cell_type": "markdown",
      "metadata": {
        "id": "-fKWl7VZ7zhi"
      },
      "source": [
        "# _\n",
        "\n",
        "___________________________________"
      ]
    },
    {
      "cell_type": "markdown",
      "metadata": {
        "id": "eV7uVfwdZ43U"
      },
      "source": [
        "# Summary Report:"
      ]
    },
    {
      "cell_type": "markdown",
      "metadata": {
        "id": "gtbCWYwYZ7My"
      },
      "source": [
        "# Copy from Submission 1 "
      ]
    },
    {
      "cell_type": "markdown",
      "metadata": {
        "id": "2r8NUiBLSxdW"
      },
      "source": [
        "### Import libraries"
      ]
    },
    {
      "cell_type": "code",
      "metadata": {
        "id": "ipEIFfGDECPx",
        "colab": {
          "base_uri": "https://localhost:8080/"
        },
        "outputId": "1c56893f-8c7d-4de7-da86-e40e1ee093db"
      },
      "source": [
        "from matplotlib import pyplot as plt\n",
        "import numpy as np\n",
        "\n",
        "import keras \n",
        "from keras.datasets import mnist \n",
        "(x_train, y_train), (x_test, y_test) = mnist.load_data() \n",
        "\n",
        "import cv2\n",
        "from scipy.signal import convolve, convolve2d\n",
        "import math\n"
      ],
      "execution_count": null,
      "outputs": [
        {
          "output_type": "stream",
          "text": [
            "Downloading data from https://storage.googleapis.com/tensorflow/tf-keras-datasets/mnist.npz\n",
            "11493376/11490434 [==============================] - 0s 0us/step\n"
          ],
          "name": "stdout"
        }
      ]
    },
    {
      "cell_type": "markdown",
      "metadata": {
        "id": "oGwpLxsWRyoh"
      },
      "source": [
        "### Examples of augmentation class uses"
      ]
    },
    {
      "cell_type": "code",
      "metadata": {
        "id": "Ev4JpejRNb43"
      },
      "source": [
        "def plot_images(images, titles, num_rows, width=15, height=15, padding=1.5, show_axis=False, color_map='gray'):\n",
        "    fig, ax = plt.subplots(num_rows, len(images) // num_rows)\n",
        "    if show_axis is False:\n",
        "        [axi.set_axis_off() for axi in ax.ravel()]\n",
        "    fig.set_figwidth(width)\n",
        "    fig.set_figheight(height)\n",
        "    fig.tight_layout(pad=padding)\n",
        "\n",
        "    for image, title, ax in zip(images, titles, ax.flatten()):\n",
        "        ax.set_title(title)\n",
        "        ax.imshow(image, cmap=color_map)\n",
        "        "
      ],
      "execution_count": null,
      "outputs": []
    },
    {
      "cell_type": "code",
      "metadata": {
        "id": "34ZCJH1oMVdc"
      },
      "source": [
        "# Orgnize the data (Undo Shuffeling)\n",
        "def organize_data(data, labels):\n",
        "    # Initialize the list with 10 sublists (one for each digit)\n",
        "    organized_data_list = [list() for _ in range(10)]\n",
        "    # Iterate over every image and its label in the data\n",
        "    for image, label in zip(data, labels):\n",
        "        # Add the image to the appropappropriate sublist\n",
        "        organized_data_list[label].append(image)\n",
        "    return organized_data_list\n",
        "  "
      ],
      "execution_count": null,
      "outputs": []
    },
    {
      "cell_type": "markdown",
      "metadata": {
        "id": "Mwcpt0K1TNnB"
      },
      "source": [
        "### Print examples of mnist dataset"
      ]
    },
    {
      "cell_type": "code",
      "metadata": {
        "id": "ibi6EBZhGB_0",
        "colab": {
          "base_uri": "https://localhost:8080/",
          "height": 1000
        },
        "outputId": "0ffed571-ff60-48e7-976d-734dd4048236"
      },
      "source": [
        "images_by_digit = organize_data(x_train, y_train)\n",
        "plot_images([images_by_digit[i//5][i%5] for i in range(50)], (str(i//5) for i in range(50)), 10)"
      ],
      "execution_count": null,
      "outputs": [
        {
          "output_type": "display_data",
          "data": {
            "image/png": "[encoded data removed]",
            "text/plain": [
              "<Figure size 1080x1080 with 50 Axes>"
            ]
          },
          "metadata": {
            "tags": [],
            "needs_background": "light"
          }
        }
      ]
    },
    {
      "cell_type": "markdown",
      "metadata": {
        "id": "lG8cQwVHTdVW"
      },
      "source": [
        "### concat n images togther"
      ]
    },
    {
      "cell_type": "code",
      "metadata": {
        "id": "HnagIeZYOp93"
      },
      "source": [
        "# Source: https://stackoverflow.com/a/30228789\n",
        "import numpy as np\n",
        "\n",
        "def concat_images(*images):\n",
        "    if len(images) == 0:\n",
        "        return None\n",
        "        \n",
        "    imgs_comb = np.hstack(images)\n",
        "    return imgs_comb"
      ],
      "execution_count": null,
      "outputs": []
    },
    {
      "cell_type": "markdown",
      "metadata": {
        "id": "C3zr9dAeTkpj"
      },
      "source": [
        "### Build 3dig data "
      ]
    },
    {
      "cell_type": "code",
      "metadata": {
        "id": "U6TtyQvBFMW1",
        "colab": {
          "base_uri": "https://localhost:8080/"
        },
        "outputId": "a6e71c44-073b-4e29-ef02-ce09d419d841"
      },
      "source": [
        "import random\n",
        "# 000 : 4000 picutres\n",
        "# 001:  4000 picures\n",
        "\n",
        "def build_data_set():\n",
        "    def create_random_triplet_images(first_digit, second_digit, third_digit):\n",
        "        first_digit_images = images_by_digit[first_digit]\n",
        "        second_digit_images = images_by_digit[second_digit]\n",
        "        third_digit_images = images_by_digit[third_digit]\n",
        "        # return [concat_images(*image) for image, _ in zip(itertools.product(images_by_digit[0], images_by_digit[1], images_by_digit[0]), range(4000))]\n",
        "        return ([concat_images(random.choice(first_digit_images),\n",
        "                                random.choice(second_digit_images),\n",
        "                                random.choice(third_digit_images))\n",
        "                                for _ in range(4000)])\n",
        "\n",
        "    data_set = []\n",
        "    for number in range(101):\n",
        "        data_set.append(create_random_triplet_images(number // 100, (number // 10) % 10, number % 10))\n",
        "    return data_set\n",
        "\n",
        "%time digit_triplets = build_data_set()"
      ],
      "execution_count": null,
      "outputs": [
        {
          "output_type": "stream",
          "text": [
            "CPU times: user 5.33 s, sys: 567 ms, total: 5.9 s\n",
            "Wall time: 5.87 s\n"
          ],
          "name": "stdout"
        }
      ]
    },
    {
      "cell_type": "markdown",
      "metadata": {
        "id": "o7XzFSFFTpYG"
      },
      "source": [
        "### Present dataset samples"
      ]
    },
    {
      "cell_type": "code",
      "metadata": {
        "id": "UyZjmuf5aqMQ",
        "colab": {
          "base_uri": "https://localhost:8080/",
          "height": 1000
        },
        "outputId": "a1edb75c-8c71-4b54-d8f8-66467bc58e2b"
      },
      "source": [
        "random_number = random.randint(0, 100)\n",
        "plot_images([digit_triplets[random_number][i] for i in range(10)], (str(random_number) for _ in range(10)), 5, padding=0.3)\n",
        "len(digit_triplets[random_number]) # 4000 :)"
      ],
      "execution_count": null,
      "outputs": [
        {
          "output_type": "execute_result",
          "data": {
            "text/plain": [
              "4000"
            ]
          },
          "metadata": {
            "tags": []
          },
          "execution_count": 38
        },
        {
          "output_type": "display_data",
          "data": {
            "image/png": "[encoded data removed]",
            "text/plain": [
              "<Figure size 1080x1080 with 10 Axes>"
            ]
          },
          "metadata": {
            "tags": [],
            "needs_background": "light"
          }
        }
      ]
    },
    {
      "cell_type": "markdown",
      "metadata": {
        "id": "t_Hogy617PeQ"
      },
      "source": [
        "# End of Submisn1 "
      ]
    },
    {
      "cell_type": "markdown",
      "metadata": {
        "id": "xgYQpCrYsR1P"
      },
      "source": [
        "### Building Dataset"
      ]
    },
    {
      "cell_type": "code",
      "metadata": {
        "id": "AyPkHrtUuhJR",
        "colab": {
          "base_uri": "https://localhost:8080/",
          "height": 179
        },
        "outputId": "3508cf28-3621-4184-dda3-2bfe8b0fb802"
      },
      "source": [
        "plt.imshow(digit_triplets[3][3])"
      ],
      "execution_count": null,
      "outputs": [
        {
          "output_type": "execute_result",
          "data": {
            "text/plain": [
              "<matplotlib.image.AxesImage at 0x7f5ecf1f93d0>"
            ]
          },
          "metadata": {
            "tags": []
          },
          "execution_count": 39
        },
        {
          "output_type": "display_data",
          "data": {
            "image/png": "[encoded data removed]",
            "text/plain": [
              "<Figure size 432x288 with 1 Axes>"
            ]
          },
          "metadata": {
            "tags": [],
            "needs_background": "light"
          }
        }
      ]
    },
    {
      "cell_type": "code",
      "metadata": {
        "id": "d7YCA0NBu9q7",
        "colab": {
          "base_uri": "https://localhost:8080/"
        },
        "outputId": "4e10861b-7fc5-4fa8-8867-9887b3e4a131"
      },
      "source": [
        "def split_dataset_to_X_y_arrays(data):\n",
        "    all_data_tupple = [] \n",
        "    for number in range(len(data)): #101 numbers\n",
        "        for img in (data[number]):\n",
        "            all_data_tupple.append((img, number))\n",
        "\n",
        "    # convert to NP.array\n",
        "    all_data_tupple = np.array(all_data_tupple)\n",
        "    \n",
        "    # shuffle \n",
        "    random.shuffle(all_data_tupple) # Give it a g00d shuffle\n",
        "\n",
        "\n",
        "    X = all_data_tupple[:, 0]\n",
        "    y = all_data_tupple[:, 1]\n",
        "    return X, y\n",
        "\n",
        "\n",
        "def split_dataset_3way(X, y,validation_size = 0.30 ,test_size = 0.10):\n",
        "    \"\"\"Will Split the data to Train, Test and Validation  \"\"\"\n",
        "    # for example: 90% to training [= 0.1]\n",
        "    X_train, X_test, y_train, y_test = train_test_split(X, y, test_size = test_size)\n",
        "    # from that 90%, 10% will go to [ validation = 0.1 ] \n",
        "    X_train, X_validation, y_train, y_validation = train_test_split(X_train, y_train, test_size = validation_size)\n",
        "    # will leave us with:\n",
        "    # 10% - Test\n",
        "    # 81% - Train\n",
        "    # 9% - Validation\n",
        "    return X_train, X_validation, X_test, y_train, y_validation, y_test\n",
        "\n",
        "\n",
        "\n",
        "all_X, all_y = split_dataset_to_X_y_arrays(digit_triplets)\n",
        "\n",
        "X_train, X_valid, X_test, y_train, y_valid, y_test = split_dataset_3way(all_X, all_y, validation_size = 0.30 ,test_size = 0.10)\n",
        "print(f'\\n\\nX_train:{len(X_train)}, X_valid:{len(X_valid)}, X_test:{len(X_test)},\\\n",
        "    y_train:{len(y_train)}, y_valid:{len(y_valid)}, y_test:{len(y_test)}')"
      ],
      "execution_count": null,
      "outputs": [
        {
          "output_type": "stream",
          "text": [
            "/usr/local/lib/python3.7/dist-packages/ipykernel_launcher.py:8: VisibleDeprecationWarning: Creating an ndarray from ragged nested sequences (which is a list-or-tuple of lists-or-tuples-or ndarrays with different lengths or shapes) is deprecated. If you meant to do this, you must specify 'dtype=object' when creating the ndarray\n",
            "  \n"
          ],
          "name": "stderr"
        },
        {
          "output_type": "stream",
          "text": [
            "\n",
            "\n",
            "X_train:254520, X_valid:109080, X_test:40400,    y_train:254520, y_valid:109080, y_test:40400\n"
          ],
          "name": "stdout"
        }
      ]
    },
    {
      "cell_type": "code",
      "metadata": {
        "id": "tiV30zt8zJ5s",
        "colab": {
          "base_uri": "https://localhost:8080/",
          "height": 179
        },
        "outputId": "c92510f0-3c6d-4385-c7af-eff8814202e6"
      },
      "source": [
        "plt.imshow(X_train[5])"
      ],
      "execution_count": null,
      "outputs": [
        {
          "output_type": "execute_result",
          "data": {
            "text/plain": [
              "<matplotlib.image.AxesImage at 0x7f5ecd224a10>"
            ]
          },
          "metadata": {
            "tags": []
          },
          "execution_count": 41
        },
        {
          "output_type": "display_data",
          "data": {
            "image/png": "[encoded data removed]",
            "text/plain": [
              "<Figure size 432x288 with 1 Axes>"
            ]
          },
          "metadata": {
            "tags": [],
            "needs_background": "light"
          }
        }
      ]
    },
    {
      "cell_type": "code",
      "metadata": {
        "id": "9zXL9qF8sTik"
      },
      "source": [
        "# Must inherate from dataset\n",
        "class mnist_3dig_DataSet(Dataset):\n",
        "    def __init__(self, x_train, y_train, transforms=None):\n",
        "        super(mnist_3dig_DataSet,self).__init__()\n",
        "        self.x_train = x_train\n",
        "        self.y_train = y_train\n",
        "        self.transforms = transforms\n",
        "\n",
        "        \n",
        "    def __getitem__(self, idx):\n",
        "        x = self.x_train[idx] / self.x_train[idx].max()\n",
        "        y = self.y_train[idx]\n",
        "        if self.transforms:\n",
        "            x = self.transforms(image=x.numpy())['image']\n",
        "        \n",
        "                # [Channel , H , W] -> Into The Network -> [Batch, Channel, Hight, Width]\n",
        "        return x[np.newaxis, :, :], y\n",
        "\n",
        "    def __len__(self):\n",
        "        return len(self.x_train)\n",
        "\n",
        " "
      ],
      "execution_count": null,
      "outputs": []
    },
    {
      "cell_type": "code",
      "metadata": {
        "id": "fo0gTZ_Usfat"
      },
      "source": [
        "# Taking only the first 600 values\n",
        "\n",
        "mnist_3dig_train = mnist_3dig_DataSet(X_train[:3000], y_train[:3000], transforms=None) \n",
        "mnist_3dig_test = mnist_3dig_DataSet(X_test[:3000],y_test[:3000], transforms=None)\n",
        "mnist_3dig_val =  mnist_3dig_DataSet(X_valid[:3000], y_valid[:3000], transforms=None)"
      ],
      "execution_count": null,
      "outputs": []
    },
    {
      "cell_type": "markdown",
      "metadata": {
        "id": "8qJiV87vsf5t"
      },
      "source": [
        "### Building Pytorch's DataLodaer"
      ]
    },
    {
      "cell_type": "code",
      "metadata": {
        "id": "-Rt01Uposk8j"
      },
      "source": [
        "BS=32\n",
        "mnist_3dig_loader_train = DataLoader(dataset = mnist_3dig_train, batch_size = BS, shuffle=True)\n",
        "mnist_3dig_loader_test = DataLoader(dataset = mnist_3dig_test, batch_size = BS, shuffle=True)\n",
        "mnist_3dig_loader_val = DataLoader(dataset = mnist_3dig_val, batch_size = BS, shuffle=True)"
      ],
      "execution_count": null,
      "outputs": []
    },
    {
      "cell_type": "markdown",
      "metadata": {
        "id": "evyHIOkIlrfJ"
      },
      "source": [
        "## Building LeNet"
      ]
    },
    {
      "cell_type": "code",
      "metadata": {
        "id": "BNYSInpwaF17"
      },
      "source": [
        " class LeNetModel_3dig(nn.Module):\n",
        "\n",
        "    \"\"\"input size: [1(greyScale),84(width),28(height)]\"\"\"\n",
        "    def __init__(self):\n",
        "        super(LeNetModel_3dig, self).__init__()\n",
        "        # 1 input image channel, 6 output channels, 3x3 square convolution\n",
        "        # kernel\n",
        "        self.conv1 = nn.Conv2d(1, 6, 5)\n",
        "        self.conv2 = nn.Conv2d(6, 16, 5)\n",
        "        # an affine operation: y = Wx + b\n",
        "        self.fc1 = nn.Linear(1152, 120)  # fixme\n",
        "        self.fc2 = nn.Linear(120, 84)\n",
        "        self.fc3 = nn.Linear(84, 101)\n",
        "\n",
        "    def forward(self, x):\n",
        "        x = F.relu(self.conv1(x))\n",
        "        x = F.max_pool2d(x, 2) # 84x28 -> 42x14\n",
        "        x = F.relu(self.conv2(x))\n",
        "        x = F.max_pool2d(x, 2) # 42x14 -> 21x7\n",
        "        # print(f'line17: x = {x}')\n",
        "        x = x.view(x.shape[0], -1)\n",
        "        # print(f'line19: x = {x}')\n",
        "        x = F.relu(self.fc1(x))\n",
        "        # print(f'line22 well well')\n",
        "        x = F.relu(self.fc2(x))\n",
        "        x = self.fc3(x)\n",
        "        return x\n"
      ],
      "execution_count": null,
      "outputs": []
    },
    {
      "cell_type": "code",
      "metadata": {
        "id": "Ib7g20uwr6Qw"
      },
      "source": [
        "lenet_model_3dig = LeNetModel_3dig()\n",
        "criterion = torch.nn.CrossEntropyLoss()\n",
        "optimizer = optim.Adam(lenet_model_3dig.parameters(), lr = 0.001, betas = (0.9, 0.999), eps = 1e-08, weight_decay=0, amsgrad=False)\n",
        "\n"
      ],
      "execution_count": null,
      "outputs": []
    },
    {
      "cell_type": "code",
      "metadata": {
        "id": "WH7z1Yjn1bJY"
      },
      "source": [
        "def train_one_epoch(dataloader , model, optimizer, epoc, criterion):\n",
        "    accuracy = AverageMeter()\n",
        "    losses = AverageMeter()\n",
        "    model.train()\n",
        "  \n",
        "\n",
        "\n",
        "    for i, (image, target) in enumerate(dataloader):\n",
        "        image = image.float() # float() will work better with pytorch (np.float will not run on the gpu)\n",
        "        target = target.long()\n",
        "        optimizer.zero_grad()\n",
        "        output = model(image) # forward pass \n",
        "\n",
        "        loss = criterion(output, target) # Calculate loss\n",
        "        loss.backward() # Calculate the derivetive \n",
        "\n",
        "        optimizer.step() # will modify our network according to the new values.\n",
        "\n",
        "\n",
        "        pred = output.argmax(dim = 1, keepdim = True) # getting the element with the highest probability\n",
        "        acc = torchmetrics.functional.accuracy(pred, target) # reading the accuracy of the network\n",
        "        losses.update(loss.item(), image.size(0))\n",
        "        accuracy.update(acc, image.size(0))\n",
        "       \n",
        "        \n",
        "    return losses.avg, accuracy.avg\n",
        "    "
      ],
      "execution_count": null,
      "outputs": []
    },
    {
      "cell_type": "code",
      "metadata": {
        "id": "_y0cPu7F8J3k"
      },
      "source": [
        "def inference_one_epoch(dataloader , model, epoc, criterion):\n",
        "    accuracy = AverageMeter()\n",
        "    losses = AverageMeter()\n",
        "    model.eval()\n",
        "  \n",
        "\n",
        "\n",
        "    for i, (images, targets) in enumerate(dataloader):\n",
        "        images = images.float() # float() will work better with pytorch (np.float will not run on the gpu)\n",
        "        targets = targets.long()\n",
        "        # optimizer.zero_grad()\n",
        "        output = model(images) # forward pass \n",
        "\n",
        "        loss = criterion(output, targets) # Calculate loss\n",
        "\n",
        "\n",
        "\n",
        "        pred = output.argmax(dim = 1, keepdim = True) # getting the element with the highest probability\n",
        "        acc = torchmetrics.functional.accuracy(pred, targets) # reading the accuracy of the network\n",
        "        losses.update(loss.item(), images.size(0))\n",
        "        accuracy.update(acc, images.size(0))\n",
        "       \n",
        "        \n",
        "    return losses.avg, accuracy.avg"
      ],
      "execution_count": null,
      "outputs": []
    },
    {
      "cell_type": "code",
      "metadata": {
        "id": "AIBGb_cg1kIT",
        "colab": {
          "base_uri": "https://localhost:8080/"
        },
        "outputId": "86c0ddb7-49cd-4cbe-e4ac-3c11a25d4442"
      },
      "source": [
        "NUM_OF_EPOCS = 50\n",
        "from tqdm import tqdm\n",
        "def train_n_epochs(num_f_epocs = NUM_OF_EPOCS):\n",
        "    acc_train_dict = []\n",
        "    loss_train_dict = []\n",
        "    acc_val_dict = []\n",
        "    loss_val_dict = []\n",
        "    \n",
        "\n",
        "    for i in tqdm(range(num_f_epocs)):\n",
        "        loss_train, accuracy_train = train_one_epoch(mnist_3dig_loader_train, lenet_model_3dig, optimizer, i, criterion)\n",
        "        loss_train_dict.append(loss_train)\n",
        "        acc_train_dict.append(accuracy_train)\n",
        "\n",
        "        loss_val, accuracy_val = inference_one_epoch(mnist_3dig_loader_val, lenet_model_3dig, i, criterion)\n",
        "        loss_val_dict.append(loss_val)\n",
        "        acc_val_dict.append(accuracy_val)\n",
        "        \n",
        "\n",
        "    print(f'\\nloss_train = {loss_train}')\n",
        "    print(f'accuracy_train {accuracy_train}\\n\\n')\n",
        "    print(f'\\nloss_val= {loss_val}')\n",
        "    print(f'accuracy_val {accuracy_val}\\n\\n')\n",
        "    return (loss_train_dict, acc_train_dict), (loss_val_dict, acc_val_dict)\n",
        "\n",
        "(loss_train_dict, acc_train_dict),(loss_val_dict, acc_val_dict) = train_n_epochs()"
      ],
      "execution_count": null,
      "outputs": [
        {
          "output_type": "stream",
          "text": [
            "\n",
            "\n",
            "\n",
            "\n",
            "  0%|          | 0/50 [00:00<?, ?it/s]\u001b[A\u001b[A\u001b[A\u001b[A\n",
            "\n",
            "\n",
            "\n",
            "  2%|▏         | 1/50 [00:03<02:52,  3.53s/it]\u001b[A\u001b[A\u001b[A\u001b[A\n",
            "\n",
            "\n",
            "\n",
            "  4%|▍         | 2/50 [00:07<02:50,  3.56s/it]\u001b[A\u001b[A\u001b[A\u001b[A\n",
            "\n",
            "\n",
            "\n",
            "  6%|▌         | 3/50 [00:10<02:45,  3.53s/it]\u001b[A\u001b[A\u001b[A\u001b[A\n",
            "\n",
            "\n",
            "\n",
            "  8%|▊         | 4/50 [00:14<02:42,  3.52s/it]\u001b[A\u001b[A\u001b[A\u001b[A\n",
            "\n",
            "\n",
            "\n",
            " 10%|█         | 5/50 [00:17<02:37,  3.51s/it]\u001b[A\u001b[A\u001b[A\u001b[A\n",
            "\n",
            "\n",
            "\n",
            " 12%|█▏        | 6/50 [00:21<02:34,  3.52s/it]\u001b[A\u001b[A\u001b[A\u001b[A\n",
            "\n",
            "\n",
            "\n",
            " 14%|█▍        | 7/50 [00:24<02:30,  3.51s/it]\u001b[A\u001b[A\u001b[A\u001b[A\n",
            "\n",
            "\n",
            "\n",
            " 16%|█▌        | 8/50 [00:28<02:27,  3.51s/it]\u001b[A\u001b[A\u001b[A\u001b[A\n",
            "\n",
            "\n",
            "\n",
            " 18%|█▊        | 9/50 [00:31<02:23,  3.50s/it]\u001b[A\u001b[A\u001b[A\u001b[A\n",
            "\n",
            "\n",
            "\n",
            " 20%|██        | 10/50 [00:35<02:19,  3.49s/it]\u001b[A\u001b[A\u001b[A\u001b[A\n",
            "\n",
            "\n",
            "\n",
            " 22%|██▏       | 11/50 [00:38<02:16,  3.51s/it]\u001b[A\u001b[A\u001b[A\u001b[A\n",
            "\n",
            "\n",
            "\n",
            " 24%|██▍       | 12/50 [00:42<02:13,  3.50s/it]\u001b[A\u001b[A\u001b[A\u001b[A\n",
            "\n",
            "\n",
            "\n",
            " 26%|██▌       | 13/50 [00:45<02:09,  3.50s/it]\u001b[A\u001b[A\u001b[A\u001b[A\n",
            "\n",
            "\n",
            "\n",
            " 28%|██▊       | 14/50 [00:49<02:06,  3.50s/it]\u001b[A\u001b[A\u001b[A\u001b[A\n",
            "\n",
            "\n",
            "\n",
            " 30%|███       | 15/50 [00:52<02:02,  3.51s/it]\u001b[A\u001b[A\u001b[A\u001b[A\n",
            "\n",
            "\n",
            "\n",
            " 32%|███▏      | 16/50 [00:56<01:59,  3.51s/it]\u001b[A\u001b[A\u001b[A\u001b[A\n",
            "\n",
            "\n",
            "\n",
            " 34%|███▍      | 17/50 [00:59<01:55,  3.50s/it]\u001b[A\u001b[A\u001b[A\u001b[A\n",
            "\n",
            "\n",
            "\n",
            " 36%|███▌      | 18/50 [01:03<01:52,  3.51s/it]\u001b[A\u001b[A\u001b[A\u001b[A\n",
            "\n",
            "\n",
            "\n",
            " 38%|███▊      | 19/50 [01:06<01:48,  3.50s/it]\u001b[A\u001b[A\u001b[A\u001b[A\n",
            "\n",
            "\n",
            "\n",
            " 40%|████      | 20/50 [01:10<01:44,  3.48s/it]\u001b[A\u001b[A\u001b[A\u001b[A\n",
            "\n",
            "\n",
            "\n",
            " 42%|████▏     | 21/50 [01:13<01:40,  3.48s/it]\u001b[A\u001b[A\u001b[A\u001b[A\n",
            "\n",
            "\n",
            "\n",
            " 44%|████▍     | 22/50 [01:17<01:37,  3.50s/it]\u001b[A\u001b[A\u001b[A\u001b[A\n",
            "\n",
            "\n",
            "\n",
            " 46%|████▌     | 23/50 [01:20<01:34,  3.48s/it]\u001b[A\u001b[A\u001b[A\u001b[A\n",
            "\n",
            "\n",
            "\n",
            " 48%|████▊     | 24/50 [01:24<01:30,  3.48s/it]\u001b[A\u001b[A\u001b[A\u001b[A\n",
            "\n",
            "\n",
            "\n",
            " 50%|█████     | 25/50 [01:27<01:26,  3.47s/it]\u001b[A\u001b[A\u001b[A\u001b[A\n",
            "\n",
            "\n",
            "\n",
            " 52%|█████▏    | 26/50 [01:30<01:23,  3.48s/it]\u001b[A\u001b[A\u001b[A\u001b[A\n",
            "\n",
            "\n",
            "\n",
            " 54%|█████▍    | 27/50 [01:34<01:20,  3.49s/it]\u001b[A\u001b[A\u001b[A\u001b[A\n",
            "\n",
            "\n",
            "\n",
            " 56%|█████▌    | 28/50 [01:38<01:16,  3.50s/it]\u001b[A\u001b[A\u001b[A\u001b[A\n",
            "\n",
            "\n",
            "\n",
            " 58%|█████▊    | 29/50 [01:41<01:13,  3.48s/it]\u001b[A\u001b[A\u001b[A\u001b[A\n",
            "\n",
            "\n",
            "\n",
            " 60%|██████    | 30/50 [01:44<01:08,  3.45s/it]\u001b[A\u001b[A\u001b[A\u001b[A\n",
            "\n",
            "\n",
            "\n",
            " 62%|██████▏   | 31/50 [01:48<01:05,  3.45s/it]\u001b[A\u001b[A\u001b[A\u001b[A\n",
            "\n",
            "\n",
            "\n",
            " 64%|██████▍   | 32/50 [01:51<01:01,  3.40s/it]\u001b[A\u001b[A\u001b[A\u001b[A\n",
            "\n",
            "\n",
            "\n",
            " 66%|██████▌   | 33/50 [01:54<00:57,  3.39s/it]\u001b[A\u001b[A\u001b[A\u001b[A\n",
            "\n",
            "\n",
            "\n",
            " 68%|██████▊   | 34/50 [01:58<00:54,  3.42s/it]\u001b[A\u001b[A\u001b[A\u001b[A\n",
            "\n",
            "\n",
            "\n",
            " 70%|███████   | 35/50 [02:01<00:51,  3.42s/it]\u001b[A\u001b[A\u001b[A\u001b[A\n",
            "\n",
            "\n",
            "\n",
            " 72%|███████▏  | 36/50 [02:05<00:48,  3.44s/it]\u001b[A\u001b[A\u001b[A\u001b[A\n",
            "\n",
            "\n",
            "\n",
            " 74%|███████▍  | 37/50 [02:08<00:44,  3.41s/it]\u001b[A\u001b[A\u001b[A\u001b[A\n",
            "\n",
            "\n",
            "\n",
            " 76%|███████▌  | 38/50 [02:11<00:40,  3.37s/it]\u001b[A\u001b[A\u001b[A\u001b[A\n",
            "\n",
            "\n",
            "\n",
            " 78%|███████▊  | 39/50 [02:15<00:37,  3.39s/it]\u001b[A\u001b[A\u001b[A\u001b[A\n",
            "\n",
            "\n",
            "\n",
            " 80%|████████  | 40/50 [02:18<00:34,  3.45s/it]\u001b[A\u001b[A\u001b[A\u001b[A\n",
            "\n",
            "\n",
            "\n",
            " 82%|████████▏ | 41/50 [02:22<00:31,  3.47s/it]\u001b[A\u001b[A\u001b[A\u001b[A\n",
            "\n",
            "\n",
            "\n",
            " 84%|████████▍ | 42/50 [02:26<00:27,  3.48s/it]\u001b[A\u001b[A\u001b[A\u001b[A\n",
            "\n",
            "\n",
            "\n",
            " 86%|████████▌ | 43/50 [02:29<00:24,  3.49s/it]\u001b[A\u001b[A\u001b[A\u001b[A\n",
            "\n",
            "\n",
            "\n",
            " 88%|████████▊ | 44/50 [02:32<00:20,  3.46s/it]\u001b[A\u001b[A\u001b[A\u001b[A\n",
            "\n",
            "\n",
            "\n",
            " 90%|█████████ | 45/50 [02:36<00:17,  3.42s/it]\u001b[A\u001b[A\u001b[A\u001b[A\n",
            "\n",
            "\n",
            "\n",
            " 92%|█████████▏| 46/50 [02:39<00:13,  3.40s/it]\u001b[A\u001b[A\u001b[A\u001b[A\n",
            "\n",
            "\n",
            "\n",
            " 94%|█████████▍| 47/50 [02:43<00:10,  3.42s/it]\u001b[A\u001b[A\u001b[A\u001b[A\n",
            "\n",
            "\n",
            "\n",
            " 96%|█████████▌| 48/50 [02:46<00:06,  3.44s/it]\u001b[A\u001b[A\u001b[A\u001b[A\n",
            "\n",
            "\n",
            "\n",
            " 98%|█████████▊| 49/50 [02:49<00:03,  3.43s/it]\u001b[A\u001b[A\u001b[A\u001b[A\n",
            "\n",
            "\n",
            "\n",
            "100%|██████████| 50/50 [02:53<00:00,  3.47s/it]"
          ],
          "name": "stderr"
        },
        {
          "output_type": "stream",
          "text": [
            "\n",
            "loss_train = 7.283685969620516e-08\n",
            "accuracy_train 1.0\n",
            "\n",
            "\n",
            "\n",
            "loss_val= 1.7548115108807882\n",
            "accuracy_val 0.8629999756813049\n",
            "\n",
            "\n"
          ],
          "name": "stdout"
        },
        {
          "output_type": "stream",
          "text": [
            "\n"
          ],
          "name": "stderr"
        }
      ]
    },
    {
      "cell_type": "code",
      "metadata": {
        "id": "hymWC9lz12EX",
        "colab": {
          "base_uri": "https://localhost:8080/",
          "height": 295
        },
        "outputId": "dc3fb111-a687-4baa-becb-76dade22f6f0"
      },
      "source": [
        "plt.plot(range(NUM_OF_EPOCS), loss_train_dict, 'g', label='loss_t')\n",
        "plt.plot(range(NUM_OF_EPOCS), acc_train_dict, 'b', label='Accuracy_t')\n",
        "plt.title('Train Loss & Accuracy')\n",
        "plt.xlabel('Epochs')\n",
        "plt.ylabel('Loss')\n",
        "plt.legend()\n",
        "plt.show()"
      ],
      "execution_count": null,
      "outputs": [
        {
          "output_type": "display_data",
          "data": {
            "image/png": "[encoded data removed]",
            "text/plain": [
              "<Figure size 432x288 with 1 Axes>"
            ]
          },
          "metadata": {
            "tags": [],
            "needs_background": "light"
          }
        }
      ]
    },
    {
      "cell_type": "code",
      "metadata": {
        "colab": {
          "base_uri": "https://localhost:8080/",
          "height": 295
        },
        "id": "KIg2YC3Q9zJE",
        "outputId": "b8d46462-b163-4f30-9b03-017f4d89c47b"
      },
      "source": [
        "plt.plot(range(NUM_OF_EPOCS), loss_val_dict, 'r', label='loss_v')\n",
        "plt.plot(range(NUM_OF_EPOCS), acc_val_dict, 'p', label='Accuracy_v')\n",
        "plt.title('Validation Loss & Accuracy')\n",
        "plt.xlabel('Epochs')\n",
        "plt.ylabel('Loss')\n",
        "plt.legend()\n",
        "plt.show()"
      ],
      "execution_count": null,
      "outputs": [
        {
          "output_type": "display_data",
          "data": {
            "image/png": "[encoded data removed]",
            "text/plain": [
              "<Figure size 432x288 with 1 Axes>"
            ]
          },
          "metadata": {
            "tags": [],
            "needs_background": "light"
          }
        }
      ]
    },
    {
      "cell_type": "markdown",
      "metadata": {
        "id": "W0WycUinA9Qp"
      },
      "source": [
        "## TL;DR\n",
        "In this lab we've learned how to build our own model from scratch, load into it our own made data, and train the model over it. \n"
      ]
    },
    {
      "cell_type": "markdown",
      "metadata": {
        "id": "uYjV3oNlWBfa"
      },
      "source": [
        "### Export to html notebook:"
      ]
    },
    {
      "cell_type": "code",
      "metadata": {
        "colab": {
          "base_uri": "https://localhost:8080/"
        },
        "id": "6YkUJdH4W9Vv",
        "outputId": "b25bdc8f-c7e2-4b3a-fafa-23e02eccd1aa"
      },
      "source": [
        "%%shell\n",
        "\n",
        "jupyter nbconvert --to html /content/Lab7_Summary_Shahar_Raz.ipynb"
      ],
      "execution_count": null,
      "outputs": [
        {
          "output_type": "stream",
          "text": [
            "[NbConvertApp] Converting notebook /content/Lab7_Summary_Shahar_Raz.ipynb to html\n",
            "[NbConvertApp] Writing 644516 bytes to /content/Lab7_Summary_Shahar_Raz.html\n"
          ],
          "name": "stdout"
        },
        {
          "output_type": "execute_result",
          "data": {
            "text/plain": [
              ""
            ]
          },
          "metadata": {
            "tags": []
          },
          "execution_count": 83
        }
      ]
    },
    {
      "cell_type": "markdown",
      "metadata": {
        "id": "zWrVuH8DA6bv"
      },
      "source": [
        "# References: "
      ]
    },
    {
      "cell_type": "markdown",
      "metadata": {
        "id": "gp8TfMQ4P5Oz"
      },
      "source": [
        "### Check Validation accuracy"
      ]
    },
    {
      "cell_type": "code",
      "metadata": {
        "id": "d9Z8hqmMPA23",
        "colab": {
          "base_uri": "https://localhost:8080/"
        },
        "outputId": "ad961807-37bb-4aeb-e822-e3ac919a7530"
      },
      "source": [
        "# def inference_date(dataloader , model, optimizer, epoc, criterion):\n",
        "#     accuracy = AverageMeter()\n",
        "#     losses = AverageMeter()\n",
        "#     model.train()\n",
        "  \n",
        "\n",
        "\n",
        "#     for i, (image, target) in enumerate(dataloader):\n",
        "#         image = image.float() # float() will work better with pytorch (np.float will not run on the gpu)\n",
        "#         target = target.long()\n",
        "#         optimizer.zero_grad()\n",
        "#         output = model(image) # forward pass \n",
        "\n",
        "#         loss = criterion(output, target) # Calculate loss\n",
        "#         # loss.backward() # Calculate the derivetive \n",
        "\n",
        "\n",
        "\n",
        "#         pred = output.argmax(dim = 1, keepdim = True) # getting the element with the highest probability\n",
        "#         acc = torchmetrics.functional.accuracy(pred, target) # reading the accuracy of the network\n",
        "#         losses.update(loss.item(), image.size(0))\n",
        "#         accuracy.update(acc, image.size(0))\n",
        "       \n",
        "        \n",
        "#     return losses.avg, accuracy.avg\n",
        "\n",
        "# losses, accuracy = inference_date(mnist_3dig_loader_val, lenet_model_3dig, optimizer, 1, criterion)\n",
        "# print(f'loss = {losses} , acc = {accuracy} ')\n",
        "\n"
      ],
      "execution_count": null,
      "outputs": [
        {
          "output_type": "stream",
          "text": [
            "loss = 1.7548115206559498 , acc = 0.8629999756813049 \n"
          ],
          "name": "stdout"
        }
      ]
    },
    {
      "cell_type": "code",
      "metadata": {
        "id": "Y4e5Wic3QMXI",
        "colab": {
          "base_uri": "https://localhost:8080/",
          "height": 214
        },
        "outputId": "28953c61-42f6-4d64-d781-041f1de5967c"
      },
      "source": [
        "# def inference_single_image(single_image = mnist_3dig_val[1][0][0]):\n",
        "#     plt.imshow(single_image)\n",
        "#     image_batched = single_image[np.newaxis, :]\n",
        "#     image_batched = torch.tensor(image_batched)\n",
        "#     # image_batched = single_image.float() # float() will work better with pytorch (np.float will not run on the gpu)\n",
        "#     # target = target.long()\n",
        "\n",
        "#     optimizer.zero_grad()\n",
        "#     output = model(image_batched) # forward pass \n",
        "#     pred = output.argmax(dim = 1, keepdim = True) # getting the element with the highest probability\n",
        "        \n",
        "#     return pred\n",
        "\n",
        "\n",
        "\n",
        "\n",
        "# BS=1\n",
        "# mnist_3dig_loader_test_single = DataLoader(dataset = mnist_3dig_test, batch_size = BS, shuffle=False)\n",
        "\n",
        "# print(mnist_3dig_loader_test_single.next())      \n",
        "       "
      ],
      "execution_count": null,
      "outputs": [
        {
          "output_type": "error",
          "ename": "AttributeError",
          "evalue": "ignored",
          "traceback": [
            "\u001b[0;31m---------------------------------------------------------------------------\u001b[0m",
            "\u001b[0;31mAttributeError\u001b[0m                            Traceback (most recent call last)",
            "\u001b[0;32m<ipython-input-82-cfd2adda6fa1>\u001b[0m in \u001b[0;36m<module>\u001b[0;34m()\u001b[0m\n\u001b[1;32m     18\u001b[0m \u001b[0mmnist_3dig_loader_test_single\u001b[0m \u001b[0;34m=\u001b[0m \u001b[0mDataLoader\u001b[0m\u001b[0;34m(\u001b[0m\u001b[0mdataset\u001b[0m \u001b[0;34m=\u001b[0m \u001b[0mmnist_3dig_test\u001b[0m\u001b[0;34m,\u001b[0m \u001b[0mbatch_size\u001b[0m \u001b[0;34m=\u001b[0m \u001b[0mBS\u001b[0m\u001b[0;34m,\u001b[0m \u001b[0mshuffle\u001b[0m\u001b[0;34m=\u001b[0m\u001b[0;32mFalse\u001b[0m\u001b[0;34m)\u001b[0m\u001b[0;34m\u001b[0m\u001b[0;34m\u001b[0m\u001b[0m\n\u001b[1;32m     19\u001b[0m \u001b[0;34m\u001b[0m\u001b[0m\n\u001b[0;32m---> 20\u001b[0;31m \u001b[0mprint\u001b[0m\u001b[0;34m(\u001b[0m\u001b[0mmnist_3dig_loader_test_single\u001b[0m\u001b[0;34m.\u001b[0m\u001b[0mnext\u001b[0m\u001b[0;34m(\u001b[0m\u001b[0;34m)\u001b[0m\u001b[0;34m)\u001b[0m\u001b[0;34m\u001b[0m\u001b[0;34m\u001b[0m\u001b[0m\n\u001b[0m\u001b[1;32m     21\u001b[0m \u001b[0;34m\u001b[0m\u001b[0m\n",
            "\u001b[0;31mAttributeError\u001b[0m: 'DataLoader' object has no attribute 'next'"
          ]
        }
      ]
    },
    {
      "cell_type": "markdown",
      "metadata": {
        "id": "N6lYIn6mJB1p"
      },
      "source": [
        "### Save pytorch's state"
      ]
    },
    {
      "cell_type": "code",
      "metadata": {
        "id": "zxKVVBALJBBl"
      },
      "source": [
        "def saveTorchState(epoch_num :int , model_state, optim_state, checkpoint_name = \"torchCheckPoint\" ):\n",
        "    checkpoint = {\n",
        "        \"epoch\":epoch_num, # An integer\n",
        "        \"model_state\": model_state,  #model.state_dict(),\n",
        "        \"optim_state\": optim_state #optimizer.state_dict()\n",
        "    }\n",
        "    \n",
        "    torch.save(checkpoint, \"torchCheckPoint.pth\")\n",
        "    \n",
        "\n",
        "def loadTorchState(file_name = \"torchCheckPoint.pth\"):\n",
        "    loaded_checkpoint = torch.load(file_name)\n",
        "    epoch = loaded_checkpoint[\"epoch\"]\n",
        "\n",
        "    # we must create our model again\n",
        "    model = Model(n_input_features=6)\n",
        "    optimizer = optim.Adam(lenet_model_3dig.parameters(), lr = 0.001, betas = (0.9, 0.999), eps = 1e-08, weight_decay=0, amsgrad=False)\n",
        "\n",
        "    model.load_state_dict(checkpoint[\"model_state\"])\n",
        "    optimizer.load_state_dict(checkpoint[\"optim_state\"])\n",
        "\n",
        "    return epoch, model, optimizer\n",
        "\n",
        "\n",
        "# ######## When using GPU (cuda) ########\n",
        "\n",
        "# # ___ Save on GPU & Load on CPU ___\n",
        "# #save\n",
        "# device = torch.device(\"cuda\")\n",
        "# model.to(device)\n",
        "# torch.save(model.state_dict(),PATH)\n",
        "\n",
        "# #load\n",
        "# device = torch.device(\"cpu\")\n",
        "# model = Model(*args, **kwargs)\n",
        "# model.load_state_dict(torch.load(PATH, map_location=device))\n",
        "\n",
        "# # ___ Both save & load on GPU ___\n",
        "# #save\n",
        "# device = torch.device(\"cuda\")\n",
        "# model.to(device)\n",
        "# torch.save(model.state_dict(),PATH)\n",
        "\n",
        "# #load\n",
        "# model = Model(*args, **kwargs)\n",
        "# model.load_state_dict(torch.load(PATH))\n",
        "# device = torch.device(\"cpu\")\n",
        "\n",
        "# # ___ Save on CPU & Load on GPU ___\n",
        "# #save \n",
        "# torch.save(model.state_dict(), PATH)\n",
        "\n",
        "# #load\n",
        "# device = torch.device(\"cuda\")\n",
        "# model = Model(*args, **kwargs)\n",
        "# model.load_state_dict(torch.load(PATH, map_location=\"cuda:0\"))\n",
        "# model.to(device)\n"
      ],
      "execution_count": null,
      "outputs": []
    },
    {
      "cell_type": "markdown",
      "metadata": {
        "id": "_hQkVJjMKcid"
      },
      "source": [
        "### Save& Load pytorch's State"
      ]
    },
    {
      "cell_type": "code",
      "metadata": {
        "id": "ynhZwrSgH_4Y"
      },
      "source": [
        ""
      ],
      "execution_count": null,
      "outputs": []
    },
    {
      "cell_type": "code",
      "metadata": {
        "id": "Bp-kCA_Q8Lyo"
      },
      "source": [
        ""
      ],
      "execution_count": null,
      "outputs": []
    }
  ]
}