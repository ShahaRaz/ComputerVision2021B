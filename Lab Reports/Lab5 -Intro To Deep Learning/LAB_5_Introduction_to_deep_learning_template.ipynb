{
 "cells": [
  {
   "cell_type": "markdown",
   "metadata": {
    "id": "lF1pzOBXgDPM"
   },
   "source": [
    "# **Lab 5 - Introduction to Deep learning**\n",
    "# **Computer Vision (10224)**\n",
    "<img src='https://upload.wikimedia.org/wikipedia/he/thumb/9/94/%D7%A1%D7%9E%D7%9C_%D7%94%D7%9E%D7%9B%D7%9C%D7%9C%D7%94.jpg/560px-%D7%A1%D7%9E%D7%9C_%D7%94%D7%9E%D7%9B%D7%9C%D7%9C%D7%94.jpg'></img>\t\n",
    "## **Goals**\n",
    "* Motivation to use nn frameworks such as pytorch, tensorflow etc.  \n",
    "\n",
    "\n",
    "## **Lab Session**\n",
    "1. what is pytorch\n",
    "2. Basic Deep learning\n",
    "  * Fully Connected layers \n",
    "  * Activation functions   \n",
    "3. MNIST\n",
    "  * Download the  MNIST Dataset\n",
    "  * Initlaize a torchvision pre-defined MNIST dataset class\n",
    "4. Single Fully connected model \n",
    "  * Build a model using single fully connected layer\n",
    "  * Demo evaluation of the randomly initialized weights \n",
    "    * A little bit about torch.nn.fanctional \n",
    "    * A little bit about softmax activation function\n",
    "5. Three FC-Layer model \n",
    "  * concatinate 3 FC layer with the following dimensions: \n",
    "    * FC-1: input: size of the image in pixels, output: 128\n",
    "    * FC-2: input: 128, output: 64\n",
    "    * FC-1: input: 64, output: number of classes to predict from ( in this case 10) \n",
    "6. Convolution layer\n",
    "7. Pooling layer \n",
    "8. MNIST Model with convolution layers \n",
    "9. Class Exercise build LeNet Architectue:\n",
    "\n",
    "<img src = \"https://d2l.ai/_images/lenet.svg\"></img> \n",
    "\n",
    "\n",
    "\n",
    "## **Final Report**\n",
    "1. Complete the unfinished lab session tasks.\n",
    "2. Write a short TL;DR (too long didn’t read) summary and describe your work and what you understood in the lab.\n",
    "\n",
    "## **Guidelines**\n",
    "1. Code written in the assignments MUST follow the PEP-8 guidelines, we will deduct points of code not following this guideline, points will be accumulated.\n",
    "2. You may use either Google Colab or Local Jupyter notebook session.\n",
    "3. Use Markdown cells in-between your code cells to explain what you’ve done.\n",
    "4. Assignments must be submitted as .html with all the required plots.\n",
    "Some exercises will require online reading, you may use Google and stackoverflow for inspiration, although if you use it make sure to attach the reference link. \n",
    "5. Add as much comments you need to explain yourself, you wouldn’t want to assume we fully understand your\n",
    "intuition.\n",
    "6. Code should be well ordered, formatted and readable.\n",
    "\n",
    "## **Further Reading**:\n",
    "[DEEP LEARNING WITH PYTORCH: A 60 MINUTE BLITZ](https://pytorch.org/tutorials/beginner/deep_learning_60min_blitz.html)\n",
    "\n",
    "\n",
    "\n"
   ]
  },
  {
   "cell_type": "markdown",
   "metadata": {
    "id": "cj2abcS42Y5Q"
   },
   "source": [
    "## Imports"
   ]
  },
  {
   "cell_type": "code",
   "execution_count": null,
   "metadata": {
    "id": "0agl-SXLCgYj"
   },
   "outputs": [],
   "source": [
    "import torch\n",
    "import numpy as np\n",
    "import matplotlib.pyplot as plt\n",
    "import torch.nn as nn\n",
    "# from google.colab import drive\n",
    "import torch.nn.functional as F\n",
    "import torchvision\n",
    "%matplotlib inline"
   ]
  },
  {
   "cell_type": "markdown",
   "metadata": {
    "id": "_hcmVZoVCkuc"
   },
   "source": [
    "## What is PyTorch\n",
    "**PyTorch is very similar to Numpy and is mostly used as a deep learning research platform that provides maximum flexibility and speed e.g.** \n",
    "\n",
    "```\n",
    "# np.zeros == torch.zeros\n",
    "```\n",
    "\n",
    "\n"
   ]
  },
  {
   "cell_type": "markdown",
   "metadata": {
    "id": "FkvLMCs7DDGa"
   },
   "source": [
    "**Let see some of the similarities**"
   ]
  },
  {
   "cell_type": "code",
   "execution_count": null,
   "metadata": {
    "id": "GLW5N1YmC_yR"
   },
   "outputs": [],
   "source": [
    "shape = (3, 3, 3)\n",
    "\n",
    "# initialize a zero array in numpy\n",
    "zeros_np = np.zeros(shape)\n",
    "\n",
    "# initialize a zero array in pytorch\n",
    "zeros_torch = torch.zeros(shape)\n",
    "\n",
    "# initialize a zero array in torch from numpy\n",
    "zeros_torch_from_np = torch.from_numpy(zeros_np)"
   ]
  },
  {
   "cell_type": "markdown",
   "metadata": {
    "id": "kBkDvz4iDuqF"
   },
   "source": [
    "**Random numbers generator**"
   ]
  },
  {
   "cell_type": "code",
   "execution_count": null,
   "metadata": {
    "id": "oxwXqWG5DhKq"
   },
   "outputs": [],
   "source": [
    "# set random seed\n",
    "torch.manual_seed(7)\n",
    "\n",
    "# initialize a random numbers array in numpy\n",
    "randn_np = np.random.randn(*(shape))\n",
    "\n",
    "# initialize a random numbers array in pytorch\n",
    "randn_torch = torch.randn(shape)"
   ]
  },
  {
   "cell_type": "markdown",
   "metadata": {
    "id": "NVjOfkpjEyW5"
   },
   "source": [
    "**Auto gradient**\n"
   ]
  },
  {
   "cell_type": "code",
   "execution_count": null,
   "metadata": {
    "colab": {
     "base_uri": "https://localhost:8080/"
    },
    "id": "7pfAMIhzEQEJ",
    "outputId": "1dcf5398-04a7-4ad7-fd96-933398badd5a"
   },
   "outputs": [],
   "source": [
    "x = np.arange(0, 10, 2, dtype=np.float32)\n",
    "print('x:', x)\n",
    "x_torch = torch.from_numpy(x)\n",
    "print ('x as troch:', x_torch)\n",
    "x_torch = x_torch.cuda()\n",
    "print ('x as troch to cuda', x_torch)\n",
    "x_torch.requires_grad = True\n",
    "y = 2 * (x_torch**2)\n",
    "print('y:', y)\n",
    "z = y.sum()\n",
    "print('z:', z)\n",
    "\n",
    "print('------------')\n",
    "# lets get the gradients.\n",
    "z.backward()\n",
    "print(x_torch.grad)\n"
   ]
  },
  {
   "cell_type": "markdown",
   "metadata": {
    "id": "p5U9oGagb09H"
   },
   "source": [
    "**Torch to numpy**\n"
   ]
  },
  {
   "cell_type": "code",
   "execution_count": null,
   "metadata": {
    "id": "YKS0GhAHcanJ"
   },
   "outputs": [],
   "source": [
    "# from torch to numpy\n",
    "x_np = x_torch.detach().cpu().numpy()"
   ]
  },
  {
   "cell_type": "markdown",
   "metadata": {
    "id": "Rv6jFJLIcqGf"
   },
   "source": [
    "**Using the GPU**"
   ]
  },
  {
   "cell_type": "code",
   "execution_count": null,
   "metadata": {
    "colab": {
     "base_uri": "https://localhost:8080/"
    },
    "id": "op2-L1IScu_K",
    "outputId": "bd4051a3-f7a9-4b43-d3c2-2ce4d41d686d"
   },
   "outputs": [],
   "source": [
    "# First we check if we have a GPU which can use\n",
    "device = torch.device('cuda') if torch.cuda.is_available() else torch.device('cpu')\n",
    "print(device)\n",
    "\n",
    "# Now we move the tensor from the cpu to GPU\n",
    "x_torch.to(device)\n",
    "\n",
    "#Or we can use the otherway which is:\n",
    "\n",
    "#x_torch.cuda() # this will throw and error if cuda device is not available"
   ]
  },
  {
   "cell_type": "markdown",
   "metadata": {
    "id": "Sle8szZMIl-5"
   },
   "source": [
    "## Basic Deep learning!\n"
   ]
  },
  {
   "cell_type": "markdown",
   "metadata": {
    "id": "UNy-2iMrIqOe"
   },
   "source": [
    "### Fully-Connnected layer\n",
    "$x_{in}*weights + biases$\n",
    "\n",
    "**Shapes:**\n",
    "$[Batch_{in}, featuresSize] * [featuresSize, OutSize] + [N] = [Batch_{in}, OutSize]$"
   ]
  },
  {
   "cell_type": "code",
   "execution_count": null,
   "metadata": {
    "id": "1GVEXgliIgH2"
   },
   "outputs": [],
   "source": [
    "# Old school low level fully connected layer\n",
    "batch_size = 1 \n",
    "features_size = 28\n",
    "out_size = 2\n",
    "x_input = torch.randn((batch_size, features_size)) \n",
    "weights = torch.randn((features_size, out_size)) # random init weights, never set weights to zero.\n",
    "biases = torch.zeros(out_size) # set biases to zero"
   ]
  },
  {
   "cell_type": "code",
   "execution_count": null,
   "metadata": {
    "id": "jS9MQYXEJMmg"
   },
   "outputs": [],
   "source": [
    "# just like the above formula\n",
    "fc1 = torch.matmul(x_input, weights) + biases\n"
   ]
  },
  {
   "cell_type": "code",
   "execution_count": null,
   "metadata": {
    "colab": {
     "base_uri": "https://localhost:8080/"
    },
    "id": "RTXNTeRiM-lk",
    "outputId": "5fd314e4-2f49-4129-9f9d-e45cd87c1574"
   },
   "outputs": [],
   "source": [
    "# How we do it in PyTorch\n",
    "our_first_model = nn.Sequential(\n",
    "    nn.Linear(in_features=features_size, out_features=out_size, bias=True),\n",
    ")\n",
    "# Run it !\n",
    "print(our_first_model(x_input))"
   ]
  },
  {
   "cell_type": "code",
   "execution_count": null,
   "metadata": {
    "colab": {
     "base_uri": "https://localhost:8080/"
    },
    "id": "nkHpDVj9fkgv",
    "outputId": "e37bbea5-f88e-4170-feec-de8bf1320944"
   },
   "outputs": [],
   "source": [
    "#2\n",
    "class Model(nn.Module):\n",
    "    def __init__(self, features_size_in, out_size):\n",
    "        super(Model, self).__init__()\n",
    "        self.fc1 = nn.Linear(in_features=features_size_in,\n",
    "                             out_features=out_size, bias=True)\n",
    "    \n",
    "    def forward(self, x):\n",
    "        return self.fc1(x)\n",
    "  \n",
    "\n",
    "# Run it!\n",
    "net = Model(features_size, out_size)\n",
    "print(net(x_input))"
   ]
  },
  {
   "cell_type": "markdown",
   "metadata": {
    "id": "5diCRaQ6NkE8"
   },
   "source": [
    "### Activation functions\n",
    "**What are they good for? Breaking linearity !**\n",
    "\n",
    "A linear function is just a polynomial of one degree. Now, a linear equation is easy to solve but they are limited in their complexity and have less power to learn complex functional mappings from data. A Neural Network without Activation function would simply be a Linear regression Model, which has limited power and does not performs good most of the times."
   ]
  },
  {
   "cell_type": "markdown",
   "metadata": {
    "id": "PdNu_rXdOaRQ"
   },
   "source": [
    "Our first activation! the common **ReLU** stands for rectified linear unit\n",
    "it basicly does $max{(0, features)}$"
   ]
  },
  {
   "cell_type": "code",
   "execution_count": null,
   "metadata": {
    "id": "y5_ZE0wlNi-l"
   },
   "outputs": [],
   "source": [
    "# the Torch way!\n",
    "relu1 = F.relu(fc1)\n",
    "# the numpy way!\n",
    "relu2 = np.maximum(0, fc1.numpy())"
   ]
  },
  {
   "cell_type": "markdown",
   "metadata": {
    "id": "0jXBuClRQ-Wg"
   },
   "source": [
    "## MNIST Dataset \n"
   ]
  },
  {
   "cell_type": "markdown",
   "metadata": {
    "id": "kYSSAJFk54rO"
   },
   "source": [
    "### let's download the data \n",
    "!wget is used to download the data \n",
    "\n",
    "!tar is used to decompress the data "
   ]
  },
  {
   "cell_type": "code",
   "execution_count": null,
   "metadata": {
    "colab": {
     "base_uri": "https://localhost:8080/"
    },
    "id": "Ernf7lOu2deX",
    "outputId": "e8a5bfb7-f7c9-4e47-feab-6c1acaeb323b"
   },
   "outputs": [],
   "source": [
    "#Download\n",
    "!wget -O MNIST.tar.gz https://activeeon-public.s3.eu-west-2.amazonaws.com/datasets/MNIST.new.tar.gz\n",
    "!tar -zxvf MNIST.tar.gz"
   ]
  },
  {
   "cell_type": "markdown",
   "metadata": {
    "id": "-3yGSnXy6L9o"
   },
   "source": [
    "### Load the data to the predefined torchvision MNIST Dataset class "
   ]
  },
  {
   "cell_type": "code",
   "execution_count": null,
   "metadata": {
    "id": "OmBQl6_VRGpU"
   },
   "outputs": [],
   "source": [
    "trainset = torchvision.datasets.MNIST(root='', train=False,\n",
    "                                        download=False);\n",
    "                                        \n",
    "num_classes = len(trainset.classes)"
   ]
  },
  {
   "cell_type": "markdown",
   "metadata": {
    "id": "4P1PTf1A6XgC"
   },
   "source": [
    "#### Visualize one image"
   ]
  },
  {
   "cell_type": "code",
   "execution_count": null,
   "metadata": {
    "colab": {
     "base_uri": "https://localhost:8080/",
     "height": 352
    },
    "id": "tyeHo_qiROSG",
    "outputId": "597209b4-d6dc-443a-961c-56382b226530"
   },
   "outputs": [],
   "source": [
    "\n",
    "idx = np.random.randint(trainset.data.shape[0])\n",
    "plt.imshow(trainset.data[idx].numpy(), cmap=\"gray\")\n",
    "plt.title(f'The number {trainset.train_labels[idx]}')"
   ]
  },
  {
   "cell_type": "markdown",
   "metadata": {
    "id": "9MHgYL3bQORg"
   },
   "source": [
    "## Building a Model using a single FC - Fully-Connected layer!"
   ]
  },
  {
   "cell_type": "code",
   "execution_count": null,
   "metadata": {
    "id": "1RHSz2-2QNJM"
   },
   "outputs": [],
   "source": [
    "class mnistModel(nn.Module):\n",
    "    def __init__(self, features_size_in, out_size):\n",
    "        super(mnistModel, self).__init__()\n",
    "        self.fc1 = nn.Linear(in_features=features_size_in, out_features=out_size)\n",
    "  \n",
    "    def forward(self, x):\n",
    "        x = x.view(x.shape[0], -1)\n",
    "        y = self.fc1(x)\n",
    "        return y"
   ]
  },
  {
   "cell_type": "markdown",
   "metadata": {
    "id": "2hsqA9186v53"
   },
   "source": [
    "get a random image from the dataset "
   ]
  },
  {
   "cell_type": "code",
   "execution_count": null,
   "metadata": {
    "id": "_XHsmmAAiZMf"
   },
   "outputs": [],
   "source": [
    "random_image = trainset.data[idx] / 255."
   ]
  },
  {
   "cell_type": "code",
   "execution_count": null,
   "metadata": {
    "id": "WPEBf12pibFV"
   },
   "outputs": [],
   "source": [
    "h, w = random_image.size()"
   ]
  },
  {
   "cell_type": "markdown",
   "metadata": {
    "id": "sjw9HOKFwCdu"
   },
   "source": [
    " ### Initilize  our FC MNIST model "
   ]
  },
  {
   "cell_type": "code",
   "execution_count": null,
   "metadata": {
    "id": "NKSiqVWRiMww"
   },
   "outputs": [],
   "source": [
    "mnist_model = mnistModel(h * w, num_classes)"
   ]
  },
  {
   "cell_type": "markdown",
   "metadata": {
    "id": "gl_llRZuwJt8"
   },
   "source": [
    "#### Demo evaluation of the random initalized mnist fully connectem model.\n",
    "\n",
    "\n",
    "\n"
   ]
  },
  {
   "cell_type": "markdown",
   "metadata": {
    "id": "Cs4AJPBf7wjm"
   },
   "source": [
    "explantion of some of the method which has been used: \n",
    "\n",
    "<code>numpy()</code> method is used to convert the tensor to numpy array please notice that it has to be on the cpu otherwise an error will be raised \n",
    "\n",
    "<code>cpu()</code> method is used to copy the tensor to the cpu\n",
    "\n",
    "<code>torch.torch.nn.functional</code> allows us to use a nn function with out the need to pre- define it, it is common to use this module for small modification of a certion model output. \n",
    "\n",
    "<code>softmax()</code> applies the **softmax activation** function: \n",
    "softmax forces the sum of the prediction to be one and each prediction value to be between zero and one. Thus softmax repressent the probabilty of each class to be the corrent class in the input image. "
   ]
  },
  {
   "cell_type": "code",
   "execution_count": null,
   "metadata": {
    "id": "12nz1SdsiwyP"
   },
   "outputs": [],
   "source": [
    "output = mnist_model(random_image[np.newaxis, :])\n",
    "softmax_output = F.softmax(output, dim=-1)\n",
    "output_np =  output.detach().cpu().numpy()"
   ]
  },
  {
   "cell_type": "markdown",
   "metadata": {
    "id": "ZQB8vjtW0Jl-"
   },
   "source": [
    "let's review the result and different ways to print tensor \n",
    "\n",
    "<code>item()</code> method is used to extract the value of of a one element tensor.\n",
    "\n",
    "<code>detach()</code> method is used to remove the gradient backwards path calculation \n",
    " "
   ]
  },
  {
   "cell_type": "code",
   "execution_count": null,
   "metadata": {
    "colab": {
     "base_uri": "https://localhost:8080/"
    },
    "id": "HzkN-BEiVVqS",
    "outputId": "d6331dba-6f46-43e1-d6d0-d3094edd440c"
   },
   "outputs": [],
   "source": [
    "print('model output:', output.detach().cpu().numpy())\n",
    "print ('output with softmax',softmax_output.detach().cpu().numpy())\n",
    "print('sum (no softmax):', output.detach().sum().item(),\n",
    "      'sum (with softmax)',softmax_output.detach().sum().item())\n",
    "print ('predicted digit (no softmax)', output.detach().argmax())\n",
    "print ('predicted digit (with softmax)', softmax_output.detach().argmax())"
   ]
  },
  {
   "cell_type": "markdown",
   "metadata": {
    "id": "-vRmcrw7j-2v"
   },
   "source": [
    "## Implement a 3 layer fully connected model:\n",
    "\n",
    "the layers demtion should be as follows:\n",
    "\n",
    "* for the first layer: output features of 128 \n",
    "* for the second layer: output features of 64 \n",
    "* for the third layer: the output features would be the number of classes to predict from, in this case 10.   \n"
   ]
  },
  {
   "cell_type": "code",
   "execution_count": null,
   "metadata": {
    "id": "Kk5a0hhdkI6Y"
   },
   "outputs": [],
   "source": [
    "class mnistModel(nn.Module):\n",
    "    def __init__(self):\n",
    "        super(mnistModel, self).__init__()\n",
    "        self.fc1 = nn.Linear(in_features=28 * 28, out_features=128)\n",
    "        self.fc2 = \n",
    "        self.fc3 = \n",
    "\n",
    "    def forward(self, x):\n",
    "        x = x.view(x.shape[0], -1)\n",
    "        x = \n",
    "        x = \n",
    "        x = \n",
    "        x = \n",
    "        x = \n",
    "        y = F.sigmoid(x)\n",
    "        return y"
   ]
  },
  {
   "cell_type": "markdown",
   "metadata": {
    "id": "Jp7v5s7EkLhV"
   },
   "source": [
    "## Convolution layer"
   ]
  },
  {
   "cell_type": "markdown",
   "metadata": {
    "id": "82pdVkUekRB6"
   },
   "source": [
    "**Works more like correlation then convolution.**\n",
    "How does it  works? let us watch https://cs231n.github.io/convolutional-networks/"
   ]
  },
  {
   "cell_type": "markdown",
   "metadata": {
    "id": "JwtKK6lIk4ew"
   },
   "source": [
    "**Conv2d  in PyTorch**\n",
    "Syntax : **nn.Conv2d(in_channels, out_channel, kernel_size, stride, padding)**\n",
    "**Note: in PyTorch we work with tensor that has shape like [batch_size, Channels, H, W] so we have to transpose the channels into the right order before processing the data.**\n",
    "\n",
    "Watch the example below:"
   ]
  },
  {
   "cell_type": "code",
   "execution_count": null,
   "metadata": {
    "colab": {
     "base_uri": "https://localhost:8080/"
    },
    "id": "dfe5WyUzneSL",
    "outputId": "64216764-2322-4000-bcda-89aacacfe158"
   },
   "outputs": [],
   "source": [
    "input_image = random_image\n",
    "print(input_image.shape) # shape of only H, W  which means we have to add two more channels\n",
    "# batch_size if we only work with one image and the color channel.\n",
    "# Mostly when working with RGB/BGR images we wont have to add extra channels\n",
    "conv_ready_image = random_image[np.newaxis, np.newaxis, :] # we added one channel at the start and one after him\n",
    "print(conv_ready_image.shape)"
   ]
  },
  {
   "cell_type": "code",
   "execution_count": null,
   "metadata": {
    "id": "bZ8efApLldrE"
   },
   "outputs": [],
   "source": [
    "conv1 = nn.Conv2d(in_channels=1, out_channels=8, kernel_size=(3, 3), stride=1) # Create a conv2D layer"
   ]
  },
  {
   "cell_type": "code",
   "execution_count": null,
   "metadata": {
    "colab": {
     "base_uri": "https://localhost:8080/"
    },
    "id": "hPpdVgbhmVTn",
    "outputId": "1372c98a-dc1e-47a4-e94c-c8f685856fcb"
   },
   "outputs": [],
   "source": [
    "conv_res = conv1(conv_ready_image) # Run the conv2D layer on our input\n",
    "print(conv_res.shape) # see how the new shapes, H and W are reduced by 2 and the channels changed to 3"
   ]
  },
  {
   "cell_type": "markdown",
   "metadata": {
    "id": "sH8XujwUpPOw"
   },
   "source": [
    "## Pooling Layer\n",
    "Syntax: **nn.MaxPool2d(kernel_size)**\n",
    "This layer purpose is to reduce the spatial size, it is a sampling method.\n",
    "There's a window with size kernel_size that picks the maximum number in that window."
   ]
  },
  {
   "cell_type": "code",
   "execution_count": null,
   "metadata": {
    "colab": {
     "base_uri": "https://localhost:8080/"
    },
    "id": "8P-1-8d5p5a3",
    "outputId": "5b4578b6-d987-49ad-aad6-abccb662339a"
   },
   "outputs": [],
   "source": [
    "pooling1 = nn.MaxPool2d(kernel_size=(2,2),stride=2)\n",
    "pooling_res = pooling1(conv_res) #use the layer!\n",
    "print(pooling_res.shape) # We reduced H and W by a factor of 2 from 26X26 to 13X13"
   ]
  },
  {
   "cell_type": "markdown",
   "metadata": {
    "id": "k8r-2eHx9y-r"
   },
   "source": [
    "## MNIST Model with conv layers "
   ]
  },
  {
   "cell_type": "code",
   "execution_count": null,
   "metadata": {
    "id": "RcrSfri9rj44"
   },
   "outputs": [],
   "source": [
    "# Quick and small conv2d based model\n",
    "\n",
    "class mnistModelV2(nn.Module):\n",
    "    def __init__(self):\n",
    "        super(mnistModelV2, self).__init__()\n",
    "        self.conv1 = nn.Conv2d()\n",
    "        self.pool1 = nn.MaxPool2d()\n",
    "        self.fc1 = nn.Linear()\n",
    "  \n",
    "    def forward(self, x):\n",
    "        x = \n",
    "        x = \n",
    "        x = \n",
    "        x = x.view(x.shape[0], -1)\n",
    "        y = self.fc1(x)\n",
    "        return y"
   ]
  },
  {
   "cell_type": "code",
   "execution_count": null,
   "metadata": {
    "id": "XSqcFCKCsXpi"
   },
   "outputs": [],
   "source": [
    "mnist_v2 = mnistModelV2()"
   ]
  },
  {
   "cell_type": "code",
   "execution_count": null,
   "metadata": {
    "colab": {
     "base_uri": "https://localhost:8080/"
    },
    "id": "Y95-EwUossLm",
    "outputId": "ded1e1c6-a233-414e-a2c3-f0918340f634"
   },
   "outputs": [],
   "source": [
    "improved_mnist_res = mnist_v2(conv_ready_image)\n",
    "print(improved_mnist_res.detach())"
   ]
  },
  {
   "cell_type": "markdown",
   "metadata": {
    "id": "j5ben2dFos5X"
   },
   "source": [
    "## **Class exercise build the LeNet architecture**\n",
    "\n",
    "<img src = https://d2l.ai/_images/lenet.svg></img> "
   ]
  },
  {
   "cell_type": "markdown",
   "metadata": {
    "id": "CX-iRrHaCY9z"
   },
   "source": [
    "**Architecture hyper parameters:**\n",
    "* conv1: in channels: 1, out channels: 6, kernel size: 5\n",
    "* pool1: kernel size: 2\n",
    "* conv2: in channels: 6, out channels: 16, kernel size: 5\n",
    "* pool2: kernel size: 2\n",
    "\n",
    "* FC1: in channels: 256, out channels: 120 \n",
    "* FC2: in channels: 120, out channels: 84\n",
    "* FC3: in channels: 84, out channels: 10"
   ]
  },
  {
   "cell_type": "code",
   "execution_count": null,
   "metadata": {
    "id": "wk3S0setrmQI"
   },
   "outputs": [],
   "source": [
    "# LeNet skeleton!\n",
    "class LeNet(nn.Module):\n",
    "    def __init__(self):\n",
    "        super(LeNet, self).__init__()\n",
    "        self.conv1 = nn.Conv2d() \n",
    "\n",
    "    def forward(self, x):\n",
    "        \"\"\"\n",
    "        Insert code here!\n",
    "        \"\"\"\n",
    "        return y"
   ]
  }
 ],
 "metadata": {
  "accelerator": "GPU",
  "colab": {
   "collapsed_sections": [],
   "name": "LAB 5 Introduction to deep learning.ipynb",
   "provenance": [],
   "toc_visible": true
  },
  "kernelspec": {
   "display_name": "Python 3",
   "language": "python",
   "name": "python3"
  },
  "language_info": {
   "codemirror_mode": {
    "name": "ipython",
    "version": 3
   },
   "file_extension": ".py",
   "mimetype": "text/x-python",
   "name": "python",
   "nbconvert_exporter": "python",
   "pygments_lexer": "ipython3",
   "version": "3.7.9"
  }
 },
 "nbformat": 4,
 "nbformat_minor": 1
}
